{
  "cells": [
    {
      "cell_type": "markdown",
      "id": "7b030395-ff9d-488b-893a-3f2925d07a29",
      "metadata": {},
      "source": [
        "# BEE 4750 Lab 1: Julia and GitHub Basics\n",
        "\n",
        "**Name**: Liying Ma\n",
        "\n",
        "**ID**: Lm698\n",
        "\n",
        "> **Due Date**\n",
        ">\n",
        "> Wednesday, 8/28/24, 9:00pm\n",
        "\n",
        "## Setup\n",
        "\n",
        "The following code should go at the top of most Julia scripts; it will\n",
        "load the local package environment and install any needed packages. You\n",
        "will see this often and shouldn’t need to touch it."
      ]
    },
    {
      "cell_type": "code",
      "execution_count": 1,
      "id": "2",
      "metadata": {},
      "outputs": [
        {
          "name": "stderr",
          "output_type": "stream",
          "text": [
            "\u001b[32m\u001b[1m  Activating\u001b[22m\u001b[39m project at `~/labs/lab-1-LM698`\n",
            "\u001b[32m\u001b[1m   Installed\u001b[22m\u001b[39m libfdk_aac_jll ───── v2.0.2+0\n",
            "\u001b[32m\u001b[1m   Installed\u001b[22m\u001b[39m Opus_jll ─────────── v1.3.2+0\n",
            "\u001b[32m\u001b[1m   Installed\u001b[22m\u001b[39m libsodium_jll ────── v1.0.20+0\n",
            "\u001b[32m\u001b[1m   Installed\u001b[22m\u001b[39m GR_jll ───────────── v0.73.6+0\n",
            "\u001b[32m\u001b[1m   Installed\u001b[22m\u001b[39m Unitful ──────────── v1.20.0\n",
            "\u001b[32m\u001b[1m   Installed\u001b[22m\u001b[39m IJulia ───────────── v1.25.0\n",
            "\u001b[32m\u001b[1m   Installed\u001b[22m\u001b[39m HarfBuzz_jll ─────── v2.8.1+1\n",
            "\u001b[32m\u001b[1m   Installed\u001b[22m\u001b[39m fzf_jll ──────────── v0.43.0+0\n",
            "\u001b[32m\u001b[1m   Installed\u001b[22m\u001b[39m TranscodingStreams ─ v0.11.0\n",
            "\u001b[32m\u001b[1m   Installed\u001b[22m\u001b[39m ZeroMQ_jll ───────── v4.3.5+0\n",
            "\u001b[32m\u001b[1m   Installed\u001b[22m\u001b[39m SoftGlobalScope ──── v1.1.0\n",
            "\u001b[32m\u001b[1m   Installed\u001b[22m\u001b[39m GLFW_jll ─────────── v3.4.0+0\n",
            "\u001b[32m\u001b[1m   Installed\u001b[22m\u001b[39m JLFzf ────────────── v0.1.7\n",
            "\u001b[32m\u001b[1m   Installed\u001b[22m\u001b[39m Compat ───────────── v4.15.0\n",
            "\u001b[32m\u001b[1m   Installed\u001b[22m\u001b[39m CodecZlib ────────── v0.7.5\n",
            "\u001b[32m\u001b[1m   Installed\u001b[22m\u001b[39m Plots ────────────── v1.40.5\n",
            "\u001b[32m\u001b[1m   Installed\u001b[22m\u001b[39m libass_jll ───────── v0.15.1+0\n",
            "\u001b[32m\u001b[1m   Installed\u001b[22m\u001b[39m ZMQ ──────────────── v1.2.6\n",
            "\u001b[32m\u001b[1m   Installed\u001b[22m\u001b[39m Conda ────────────── v1.10.2\n",
            "\u001b[32m\u001b[1m   Installed\u001b[22m\u001b[39m XML2_jll ─────────── v2.13.1+0\n",
            "\u001b[32m\u001b[1m   Installed\u001b[22m\u001b[39m LLVMOpenMP_jll ───── v15.0.7+0\n",
            "\u001b[32m\u001b[1m   Installed\u001b[22m\u001b[39m VersionParsing ───── v1.3.0\n",
            "\u001b[32m\u001b[1m   Installed\u001b[22m\u001b[39m Latexify ─────────── v0.16.4\n",
            "\u001b[32m\u001b[1m   Installed\u001b[22m\u001b[39m libvorbis_jll ────── v1.3.7+1\n",
            "\u001b[32m\u001b[1m   Installed\u001b[22m\u001b[39m ColorSchemes ─────── v3.25.0\n",
            "\u001b[32m\u001b[1m   Installed\u001b[22m\u001b[39m GR ───────────────── v0.73.6\n",
            "\u001b[32m\u001b[1m    Building\u001b[22m\u001b[39m Conda ─→ `~/.julia/scratchspaces/44cfe95a-1eb2-52ea-b672-e2afdf69b78f/b19db3927f0db4151cb86d073689f2428e524576/build.log`\n",
            "\u001b[32m\u001b[1m    Building\u001b[22m\u001b[39m IJulia → `~/.julia/scratchspaces/44cfe95a-1eb2-52ea-b672-e2afdf69b78f/1702f79fa30f56b68d5b2fd6fb3a9a14ff6f9130/build.log`\n",
            "\u001b[32m\u001b[1mPrecompiling\u001b[22m\u001b[39m project...\n",
            "\u001b[32m  ✓ \u001b[39m\u001b[90mSoftGlobalScope\u001b[39m\n",
            "\u001b[32m  ✓ \u001b[39m\u001b[90mVersionParsing\u001b[39m\n",
            "\u001b[32m  ✓ \u001b[39m\u001b[90mCompat\u001b[39m\n",
            "\u001b[32m  ✓ \u001b[39m\u001b[90mTranscodingStreams\u001b[39m\n",
            "\u001b[32m  ✓ \u001b[39m\u001b[90mLLVMOpenMP_jll\u001b[39m\n",
            "\u001b[32m  ✓ \u001b[39m\u001b[90mlibsodium_jll\u001b[39m\n",
            "\u001b[32m  ✓ \u001b[39m\u001b[90mlibfdk_aac_jll\u001b[39m\n",
            "\u001b[32m  ✓ \u001b[39m\u001b[90mfzf_jll\u001b[39m\n",
            "\u001b[32m  ✓ \u001b[39m\u001b[90mOpus_jll\u001b[39m\n",
            "\u001b[32m  ✓ \u001b[39m\u001b[90mlibvorbis_jll\u001b[39m\n",
            "\u001b[32m  ✓ \u001b[39m\u001b[90mXML2_jll\u001b[39m\n",
            "\u001b[32m  ✓ \u001b[39m\u001b[90mLatexify\u001b[39m\n",
            "\u001b[32m  ✓ \u001b[39m\u001b[90mConda\u001b[39m\n",
            "\u001b[32m  ✓ \u001b[39m\u001b[90mCompat → CompatLinearAlgebraExt\u001b[39m\n",
            "\u001b[32m  ✓ \u001b[39m\u001b[90mTranscodingStreams → TestExt\u001b[39m\n",
            "\u001b[32m  ✓ \u001b[39m\u001b[90mPixman_jll\u001b[39m\n",
            "\u001b[32m  ✓ \u001b[39m\u001b[90mZeroMQ_jll\u001b[39m\n",
            "\u001b[32m  ✓ \u001b[39m\u001b[90mJLFzf\u001b[39m\n",
            "\u001b[32m  ✓ \u001b[39m\u001b[90mGettext_jll\u001b[39m\n",
            "\u001b[32m  ✓ \u001b[39m\u001b[90mXSLT_jll\u001b[39m\n",
            "\u001b[32m  ✓ \u001b[39m\u001b[90mColorSchemes\u001b[39m\n",
            "\u001b[32m  ✓ \u001b[39m\u001b[90mCodecZlib\u001b[39m\n",
            "\u001b[32m  ✓ \u001b[39m\u001b[90mGLFW_jll\u001b[39m\n",
            "\u001b[32m  ✓ \u001b[39m\u001b[90mDataStructures\u001b[39m\n",
            "\u001b[32m  ✓ \u001b[39m\u001b[90mGlib_jll\u001b[39m\n",
            "\u001b[32m  ✓ \u001b[39m\u001b[90mSortingAlgorithms\u001b[39m\n",
            "\u001b[32m  ✓ \u001b[39m\u001b[90mZMQ\u001b[39m\n",
            "\u001b[32m  ✓ \u001b[39m\u001b[90mQt6Base_jll\u001b[39m\n",
            "\u001b[32m  ✓ \u001b[39m\u001b[90mCairo_jll\u001b[39m\n",
            "\u001b[32m  ✓ \u001b[39m\u001b[90mHTTP\u001b[39m\n",
            "\u001b[32m  ✓ \u001b[39mIJulia\n",
            "\u001b[32m  ✓ \u001b[39m\u001b[90mStatsBase\u001b[39m\n",
            "\u001b[32m  ✓ \u001b[39m\u001b[90mHarfBuzz_jll\u001b[39m\n",
            "\u001b[32m  ✓ \u001b[39m\u001b[90mlibass_jll\u001b[39m\n",
            "\u001b[32m  ✓ \u001b[39m\u001b[90mPlotUtils\u001b[39m\n",
            "\u001b[32m  ✓ \u001b[39m\u001b[90mFFMPEG_jll\u001b[39m\n",
            "\u001b[32m  ✓ \u001b[39m\u001b[90mFFMPEG\u001b[39m\n",
            "\u001b[32m  ✓ \u001b[39m\u001b[90mPlotThemes\u001b[39m\n",
            "\u001b[32m  ✓ \u001b[39m\u001b[90mUnitful\u001b[39m\n",
            "\u001b[32m  ✓ \u001b[39m\u001b[90mGR_jll\u001b[39m\n",
            "\u001b[32m  ✓ \u001b[39m\u001b[90mRecipesPipeline\u001b[39m\n",
            "\u001b[32m  ✓ \u001b[39m\u001b[90mUnitfulLatexify\u001b[39m\n",
            "\u001b[32m  ✓ \u001b[39m\u001b[90mGR\u001b[39m\n",
            "\u001b[32m  ✓ \u001b[39mPlots\n",
            "\u001b[32m  ✓ \u001b[39m\u001b[90mPlots → UnitfulExt\u001b[39m\n",
            "\u001b[32m  ✓ \u001b[39m\u001b[90mPlots → IJuliaExt\u001b[39m\n",
            "  46 dependencies successfully precompiled in 99 seconds. 110 already precompiled.\n"
          ]
        }
      ],
      "source": [
        "import Pkg\n",
        "Pkg.activate(\".\")\n",
        "Pkg.instantiate()"
      ]
    },
    {
      "cell_type": "markdown",
      "id": "b0c0f53b-93bc-4baa-8b0e-bdb58e8ff961",
      "metadata": {},
      "source": [
        "This next cell loads packages which are required for the rest of the\n",
        "code evaluation. In this case, we only need to load the `Plots.jl`\n",
        "plotting package, but you will see others over the course of the\n",
        "semester (and can add more if desired; just make sure that you’ve [added\n",
        "the new packages to the\n",
        "environment](https://viveks.me/environmental-systems-analysis/tutorials/julia-basics.html#package-management)).\n",
        "Standard Julia practice is to load all of the needed packages at the top\n",
        "of the file.\n",
        "\n",
        "> **Warning**\n",
        ">\n",
        "> Loading packages can take a while, especially the first time! Julia\n",
        "> tries to precompile all of the packages you’re using so repeat use is\n",
        "> faster, but this can be quite slow at first."
      ]
    },
    {
      "cell_type": "code",
      "execution_count": 2,
      "id": "4",
      "metadata": {},
      "outputs": [],
      "source": [
        "using Plots"
      ]
    },
    {
      "cell_type": "markdown",
      "id": "6d2bc421-d992-4864-a390-fd6d7820f6c0",
      "metadata": {},
      "source": [
        "## Introduction\n",
        "\n",
        "### Julia\n",
        "\n",
        "Julia is an up-and-coming language, originally developed for scientific\n",
        "programming. While learning a new programming language always has its\n",
        "hiccups, the good news is that if you’ve programmed in a high-level\n",
        "language such as Python or MATLAB, most Julia concepts should look\n",
        "familiar.\n",
        "\n",
        "If you have not successfully set up Julia, follow the instructions in\n",
        "[Tools\n",
        "Setup](https://viveks.me/environmental-systems-analysis/setup.html)\n",
        "and/or ask for help.\n",
        "\n",
        "You can use other editors for this course, but our recommendation is\n",
        "[Visual Studio Code](https://code.visualstudio.com/) with the [Julia\n",
        "extension](https://marketplace.visualstudio.com/items?itemName=julialang.language-julia),\n",
        "which will make life a *lot* simpler! You should have set this up by\n",
        "following the [Tools\n",
        "Setup](https://viveks.me/environmental-systems-analysis/setup.html)\n",
        "instructions, but if not, do so now and/or ask for help.\n",
        "\n",
        "### Jupyter Notebooks\n",
        "\n",
        "Jupyter notebooks integrate text and equations in Markdown with Julia\n",
        "(or Python, or R) code. To do this, Jupyter notebooks consist of two\n",
        "types of “cells”: code cells and Markdown (text) cells.\n",
        "\n",
        "Click once on this section of text. A box will appear around this text\n",
        "(and some areas above/below it) - all of that is within this cell.\n",
        "\n",
        "Markdown is a text markup framework for formatting language that makes\n",
        "things look pretty when viewed across different platforms: web browsers,\n",
        "notebooks, and so forth. Text written in Markdown can also include\n",
        "hyperlinks, LaTeX equations, section headers, and images, among other\n",
        "features (most of [the course\n",
        "website](https://viveks.me/climate-risk-analysis) and the lecture notes\n",
        "were all written in Markdown!). [Here is a basic Markdown cheat\n",
        "sheet](https://www.markdownguide.org/cheat-sheet/).\n",
        "\n",
        "What you are looking at right now is the formatted text after the\n",
        "Markdown is processed. To see the raw Markdown, do one of:\n",
        "\n",
        "-   press `Enter` while that cell is selected, or\n",
        "-   double-click on that cell.\n",
        "\n",
        "------------------------------------------------------------------------\n",
        "\n",
        "A couple of the features you will see in this Markdown cell:\n",
        "\n",
        "-   The `---` command creates a horizontal line. This is also nice for\n",
        "    separating sections.\n",
        "-   Backticks (`` `...` ``) can be used to format and highlight code,\n",
        "    keystrokes, etc.\n",
        "-   The `#` sign is used to create a new section header; two `#` signs\n",
        "    (`##`) is used to create a new subsection header; `###` creates a\n",
        "    subsubsection, and so on.\n",
        "-   You can create a bulleted list by using the asterisk `*` or a dash\n",
        "    `-` and a space.\n",
        "-   You can create regular text by just typing as usual.\n",
        "-   You can create **bold-faced text** by wrapping it with two asterisks\n",
        "    on both sides.\n",
        "-   You can create *italicized text* by wrapping it with a single\n",
        "    asterisk on both sides.\n",
        "-   To create a new paragraph, you must include a blank line between the\n",
        "    old and new paragraphs.\n",
        "\n",
        "At this point you might be wondering how to turn this cell back into the\n",
        "fully formatted Markdown text instead of the raw Markdown you’re\n",
        "probably still looking at. You have a couple of options, depending on\n",
        "your platform, but the most consistent is to type `Shift + Enter` to\n",
        "**execute** the cell (this is also how to run code, but more on that\n",
        "later).\n",
        "\n",
        "Additionally, you will frequently need to create new cells in your\n",
        "Jupyter notebooks. How you do this will depend on how you interact with\n",
        "the notebook, but try to figure this out now.\n",
        "\n",
        "One tip is to think carefully about what bits of code should be in the\n",
        "same cell, as you typically only see output from the last command in a\n",
        "cell. For example, compare the following:"
      ]
    },
    {
      "cell_type": "code",
      "execution_count": 3,
      "id": "6",
      "metadata": {},
      "outputs": [
        {
          "data": {
            "text/plain": [
              "-0.9589242746631385"
            ]
          },
          "metadata": {},
          "output_type": "display_data"
        }
      ],
      "source": [
        "x = 5\n",
        "sin(x)"
      ]
    },
    {
      "cell_type": "markdown",
      "id": "0b56a2f1-81e8-4426-b62a-95cfc3933b92",
      "metadata": {},
      "source": [
        "with"
      ]
    },
    {
      "cell_type": "code",
      "execution_count": 4,
      "id": "8",
      "metadata": {},
      "outputs": [
        {
          "data": {
            "text/plain": [
              "5"
            ]
          },
          "metadata": {},
          "output_type": "display_data"
        }
      ],
      "source": [
        "x = 5"
      ]
    },
    {
      "cell_type": "code",
      "execution_count": 5,
      "id": "10",
      "metadata": {},
      "outputs": [
        {
          "data": {
            "text/plain": [
              "-0.9589242746631385"
            ]
          },
          "metadata": {},
          "output_type": "display_data"
        }
      ],
      "source": [
        "sin(x)"
      ]
    },
    {
      "cell_type": "markdown",
      "id": "474d541d-93e6-47e1-874f-80abd6c9d7cc",
      "metadata": {},
      "source": [
        "In Julia, you can also suppress the output of a command with a\n",
        "semi-colon:"
      ]
    },
    {
      "cell_type": "code",
      "execution_count": 6,
      "id": "12",
      "metadata": {},
      "outputs": [],
      "source": [
        "sin(x);"
      ]
    },
    {
      "cell_type": "markdown",
      "id": "e5950d08-d04e-4fc7-bed8-33e0ee9a1909",
      "metadata": {},
      "source": [
        "which can help if you want to split some code out for clarity or to\n",
        "insert some text prior to it, but don’t want to clutter the notebook\n",
        "with its output.\n",
        "\n",
        "For code cells, to execute the commands within the cell, we also press\n",
        "`Shift+Enter`.\n",
        "\n",
        "Finally, **make sure that you evaluate all of the code cells in order\n",
        "before submitting**. One bad outcome with notebooks occurs when cells\n",
        "are evaluated out of order, so fixed bugs and edits in previous cells do\n",
        "not get a chance to propagate down. You can do this with the `Run All`\n",
        "command in whichever interface you’re using to edit your notebook.\n",
        "\n",
        "### Julia Basics\n",
        "\n",
        "There are many tutorials and references for Julia, including a [basics\n",
        "overview on the class website](../tutorials/julia-basics.html). Please\n",
        "feel free to reference these as you work through any part of the course.\n",
        "\n",
        "### Formatting Math\n",
        "\n",
        "It will often be helpful to include nicely-formatted mathematics in a\n",
        "notebook. Markdown accomodates this using LaTeX syntax. A LaTeX\n",
        "cheatsheet is available on the class website, and many other guides\n",
        "exist online.\n",
        "\n",
        "Below is an example of a formatted equation: $$x = 5.$$\n",
        "\n",
        "### Looking For Help\n",
        "\n",
        "There is no shame in using Google, or other resources, for help when\n",
        "programming. There are many, many times when you can’t quite get the\n",
        "syntax to work, can’t quite figure out the right package or command to\n",
        "use, or are feeling too lazy or overwhelmed (I’m not judging either of\n",
        "those!) to dig through the documentation. Some good resources include:\n",
        "\n",
        "-   [Stack Overflow](https://stackoverflow.com/) is a treasure trove of\n",
        "    answers;\n",
        "-   The [official Julia forum](https://discourse.julialang.org/) and the\n",
        "    [Julia Subreddit](https://www.reddit.com/r/Julia/) are also very\n",
        "    useful.\n",
        "\n",
        "You are also highly encouraged to post on [Ed\n",
        "Discussion](https://us.edstem.org), though getting a response might be\n",
        "less immediate. Just be mindful that to get good answers, [you have to\n",
        "help people help you](https://stackoverflow.com/help/how-to-ask), and\n",
        "**make sure to give credit to any resources that were helpful**!\n",
        "\n",
        "## Exercises (3 points)\n",
        "\n",
        "Use your understanding of Julia syntax and the GitHub workflow to\n",
        "complete the following (hopefully short) exercises. Convert your\n",
        "completed lab assignment to a PDF and submit it to the Gradescope\n",
        "Assignment “Lab 1”.\n",
        "\n",
        "**Remember to**:\n",
        "\n",
        "-   Include a (succint but clear) writeup of the core idea underlying\n",
        "    your code, through some combination of equations, text, and\n",
        "    algorithms. As you are not required to submit your code, we will not\n",
        "    be looking at it in detail, and instead will rely on those writeups\n",
        "    to assess whether your approach is correct.\n",
        "-   If using the notebook, evaluate all of your code cells, in order\n",
        "    (using a `Run All` command). This will make sure all output is\n",
        "    visible and that the code cells were evaluated in the correct order.\n",
        "-   Tag each of the problems when you submit to Gradescope; a 10%\n",
        "    penalty will be deducted if this is not done.\n",
        "\n",
        "### Computing a Dot Product\n",
        "\n",
        "Given two numeric arrays `x` and `y`, write a function to compute their\n",
        "dot product if they have equal length, and return an error if not (this\n",
        "is useful for debugging!). Use the following code as a starting point."
      ]
    },
    {
      "cell_type": "code",
      "execution_count": 7,
      "id": "14",
      "metadata": {},
      "outputs": [
        {
          "data": {
            "text/plain": [
              "dot_product (generic function with 1 method)"
            ]
          },
          "metadata": {},
          "output_type": "display_data"
        }
      ],
      "source": [
        "using LinearAlgebra\n",
        "function dot_product(x, y)\n",
        "    if length(x)==length(y) # insert test condition for equal lengths\n",
        "        product = LinearAlgebra.dot(x,y)\n",
        "        return product# compute and return dot product\n",
        "    else\n",
        "        throw(DimensionMismatch(\"length of x not equal to length of y\"))\n",
        "    end\n",
        "end"
      ]
    },
    {
      "cell_type": "markdown",
      "id": "e0ce47a6-a5e8-4cd8-a776-5b04adfa6330",
      "metadata": {},
      "source": [
        "Here are some tests to make sure your code works as intended. Tests like\n",
        "these are useful to make sure everything works as intended. One reason\n",
        "to split your code up into functions is that it makes it straightforward\n",
        "to write tests to make sure each piece of your code works, which makes\n",
        "it easier to identify where errors are occuring."
      ]
    },
    {
      "cell_type": "code",
      "execution_count": 8,
      "id": "16",
      "metadata": {},
      "outputs": [
        {
          "data": {
            "text/plain": [
              "32"
            ]
          },
          "metadata": {},
          "output_type": "display_data"
        }
      ],
      "source": [
        "dot_product([1 2 3], [4 5 6])"
      ]
    },
    {
      "cell_type": "markdown",
      "id": "37f85171-25e8-4513-b57c-af25ff4378e7",
      "metadata": {},
      "source": [
        "If you know the value you should get, you can write a more formal test\n",
        "using the `@assert` macro, which is a good way to “automate” checking\n",
        "(since you get an obvious error if the code doesn’t work as desired):"
      ]
    },
    {
      "cell_type": "code",
      "execution_count": 9,
      "id": "18",
      "metadata": {},
      "outputs": [],
      "source": [
        "@assert dot_product([1 2 3], [4 5 6]) == 32"
      ]
    },
    {
      "cell_type": "markdown",
      "id": "65ccdcd8-449e-4f0c-8f4e-7953ea267f8d",
      "metadata": {},
      "source": [
        "Let’s also make sure we get an error when the dimensions of the two\n",
        "vectors don’t match:"
      ]
    },
    {
      "cell_type": "code",
      "execution_count": 10,
      "id": "20",
      "metadata": {},
      "outputs": [
        {
          "ename": "DimensionMismatch",
          "evalue": "DimensionMismatch: length of x not equal to length of y",
          "output_type": "error",
          "traceback": [
            "DimensionMismatch: length of x not equal to length of y\n",
            "\n",
            "Stacktrace:\n",
            " [1] dot_product(x::Matrix{Int64}, y::Matrix{Int64})\n",
            "   @ Main ~/labs/lab-1-LM698/jl_notebook_cell_df34fa98e69747e1a8f8a730347b8e2f_X15sZmlsZQ==.jl:7\n",
            " [2] top-level scope\n",
            "   @ ~/labs/lab-1-LM698/jl_notebook_cell_df34fa98e69747e1a8f8a730347b8e2f_X24sZmlsZQ==.jl:1"
          ]
        }
      ],
      "source": [
        "dot_product([1 2 3], [4 5])"
      ]
    },
    {
      "cell_type": "markdown",
      "id": "8c069a05-159a-43b4-aa3f-d1fec9a2f727",
      "metadata": {},
      "source": [
        "### Making a Plot\n",
        "\n",
        "Write a function to compute the square of an integer `x`. Evaluate this\n",
        "function for integers between $x=-5$ and $x=5$ and make a plot of the\n",
        "squared values (you can find a quick guide to making various types of\n",
        "plots\n",
        "[here](https://viveks.me/environmental-systems-analysis/tutorials/julia-plots.html)).\n",
        "Make sure to label your axes."
      ]
    },
    {
      "cell_type": "code",
      "execution_count": 11,
      "id": "22",
      "metadata": {},
      "outputs": [
        {
          "data": {
            "image/png": "[encoded data removed]",
            "image/svg+xml": [
              "<?xml version=\"1.0\" encoding=\"utf-8\"?>\n",
              "<svg xmlns=\"http://www.w3.org/2000/svg\" xmlns:xlink=\"http://www.w3.org/1999/xlink\" width=\"600\" height=\"400\" viewBox=\"0 0 2400 1600\">\n",
              "<defs>\n",
              "  <clipPath id=\"clip650\">\n",
              "    <rect x=\"0\" y=\"0\" width=\"2400\" height=\"1600\"/>\n",
              "  </clipPath>\n",
              "</defs>\n",
              "<path clip-path=\"url(#clip650)\" d=\"M0 1600 L2400 1600 L2400 8.88178e-14 L0 8.88178e-14  Z\" fill=\"#ffffff\" fill-rule=\"evenodd\" fill-opacity=\"1\"/>\n",
              "<defs>\n",
              "  <clipPath id=\"clip651\">\n",
              "    <rect x=\"480\" y=\"0\" width=\"1681\" height=\"1600\"/>\n",
              "  </clipPath>\n",
              "</defs>\n",
              "<path clip-path=\"url(#clip650)\" d=\"M203.964 1423.18 L2352.76 1423.18 L2352.76 47.2441 L203.964 47.2441  Z\" fill=\"#ffffff\" fill-rule=\"evenodd\" fill-opacity=\"1\"/>\n",
              "<defs>\n",
              "  <clipPath id=\"clip652\">\n",
              "    <rect x=\"203\" y=\"47\" width=\"2150\" height=\"1377\"/>\n",
              "  </clipPath>\n",
              "</defs>\n",
              "<polyline clip-path=\"url(#clip652)\" style=\"stroke:#000000; stroke-linecap:round; stroke-linejoin:round; stroke-width:2; stroke-opacity:0.1; fill:none\" points=\"467.495,1423.18 467.495,47.2441 \"/>\n",
              "<polyline clip-path=\"url(#clip652)\" style=\"stroke:#000000; stroke-linecap:round; stroke-linejoin:round; stroke-width:2; stroke-opacity:0.1; fill:none\" points=\"872.927,1423.18 872.927,47.2441 \"/>\n",
              "<polyline clip-path=\"url(#clip652)\" style=\"stroke:#000000; stroke-linecap:round; stroke-linejoin:round; stroke-width:2; stroke-opacity:0.1; fill:none\" points=\"1278.36,1423.18 1278.36,47.2441 \"/>\n",
              "<polyline clip-path=\"url(#clip652)\" style=\"stroke:#000000; stroke-linecap:round; stroke-linejoin:round; stroke-width:2; stroke-opacity:0.1; fill:none\" points=\"1683.79,1423.18 1683.79,47.2441 \"/>\n",
              "<polyline clip-path=\"url(#clip652)\" style=\"stroke:#000000; stroke-linecap:round; stroke-linejoin:round; stroke-width:2; stroke-opacity:0.1; fill:none\" points=\"2089.22,1423.18 2089.22,47.2441 \"/>\n",
              "<polyline clip-path=\"url(#clip650)\" style=\"stroke:#000000; stroke-linecap:round; stroke-linejoin:round; stroke-width:4; stroke-opacity:1; fill:none\" points=\"203.964,1423.18 2352.76,1423.18 \"/>\n",
              "<polyline clip-path=\"url(#clip650)\" style=\"stroke:#000000; stroke-linecap:round; stroke-linejoin:round; stroke-width:4; stroke-opacity:1; fill:none\" points=\"467.495,1423.18 467.495,1404.28 \"/>\n",
              "<polyline clip-path=\"url(#clip650)\" style=\"stroke:#000000; stroke-linecap:round; stroke-linejoin:round; stroke-width:4; stroke-opacity:1; fill:none\" points=\"872.927,1423.18 872.927,1404.28 \"/>\n",
              "<polyline clip-path=\"url(#clip650)\" style=\"stroke:#000000; stroke-linecap:round; stroke-linejoin:round; stroke-width:4; stroke-opacity:1; fill:none\" points=\"1278.36,1423.18 1278.36,1404.28 \"/>\n",
              "<polyline clip-path=\"url(#clip650)\" style=\"stroke:#000000; stroke-linecap:round; stroke-linejoin:round; stroke-width:4; stroke-opacity:1; fill:none\" points=\"1683.79,1423.18 1683.79,1404.28 \"/>\n",
              "<polyline clip-path=\"url(#clip650)\" style=\"stroke:#000000; stroke-linecap:round; stroke-linejoin:round; stroke-width:4; stroke-opacity:1; fill:none\" points=\"2089.22,1423.18 2089.22,1404.28 \"/>\n",
              "<path clip-path=\"url(#clip650)\" d=\"M436.395 1468.75 L466.071 1468.75 L466.071 1472.69 L436.395 1472.69 L436.395 1468.75 Z\" fill=\"#000000\" fill-rule=\"nonzero\" fill-opacity=\"1\" /><path clip-path=\"url(#clip650)\" d=\"M489.011 1455.09 L477.205 1473.54 L489.011 1473.54 L489.011 1455.09 M487.784 1451.02 L493.664 1451.02 L493.664 1473.54 L498.594 1473.54 L498.594 1477.43 L493.664 1477.43 L493.664 1485.58 L489.011 1485.58 L489.011 1477.43 L473.409 1477.43 L473.409 1472.92 L487.784 1451.02 Z\" fill=\"#000000\" fill-rule=\"nonzero\" fill-opacity=\"1\" /><path clip-path=\"url(#clip650)\" d=\"M842.87 1468.75 L872.545 1468.75 L872.545 1472.69 L842.87 1472.69 L842.87 1468.75 Z\" fill=\"#000000\" fill-rule=\"nonzero\" fill-opacity=\"1\" /><path clip-path=\"url(#clip650)\" d=\"M886.666 1481.64 L902.985 1481.64 L902.985 1485.58 L881.041 1485.58 L881.041 1481.64 Q883.703 1478.89 888.286 1474.26 Q892.892 1469.61 894.073 1468.27 Q896.318 1465.74 897.198 1464.01 Q898.101 1462.25 898.101 1460.56 Q898.101 1457.8 896.156 1456.07 Q894.235 1454.33 891.133 1454.33 Q888.934 1454.33 886.48 1455.09 Q884.05 1455.86 881.272 1457.41 L881.272 1452.69 Q884.096 1451.55 886.55 1450.97 Q889.004 1450.39 891.041 1450.39 Q896.411 1450.39 899.605 1453.08 Q902.8 1455.77 902.8 1460.26 Q902.8 1462.39 901.99 1464.31 Q901.203 1466.2 899.096 1468.8 Q898.517 1469.47 895.416 1472.69 Q892.314 1475.88 886.666 1481.64 Z\" fill=\"#000000\" fill-rule=\"nonzero\" fill-opacity=\"1\" /><path clip-path=\"url(#clip650)\" d=\"M1278.36 1454.1 Q1274.75 1454.1 1272.92 1457.66 Q1271.11 1461.2 1271.11 1468.33 Q1271.11 1475.44 1272.92 1479.01 Q1274.75 1482.55 1278.36 1482.55 Q1281.99 1482.55 1283.8 1479.01 Q1285.63 1475.44 1285.63 1468.33 Q1285.63 1461.2 1283.8 1457.66 Q1281.99 1454.1 1278.36 1454.1 M1278.36 1450.39 Q1284.17 1450.39 1287.23 1455 Q1290.3 1459.58 1290.3 1468.33 Q1290.3 1477.06 1287.23 1481.67 Q1284.17 1486.25 1278.36 1486.25 Q1272.55 1486.25 1269.47 1481.67 Q1266.42 1477.06 1266.42 1468.33 Q1266.42 1459.58 1269.47 1455 Q1272.55 1450.39 1278.36 1450.39 Z\" fill=\"#000000\" fill-rule=\"nonzero\" fill-opacity=\"1\" /><path clip-path=\"url(#clip650)\" d=\"M1678.45 1481.64 L1694.76 1481.64 L1694.76 1485.58 L1672.82 1485.58 L1672.82 1481.64 Q1675.48 1478.89 1680.07 1474.26 Q1684.67 1469.61 1685.85 1468.27 Q1688.1 1465.74 1688.98 1464.01 Q1689.88 1462.25 1689.88 1460.56 Q1689.88 1457.8 1687.94 1456.07 Q1686.01 1454.33 1682.91 1454.33 Q1680.71 1454.33 1678.26 1455.09 Q1675.83 1455.86 1673.05 1457.41 L1673.05 1452.69 Q1675.88 1451.55 1678.33 1450.97 Q1680.78 1450.39 1682.82 1450.39 Q1688.19 1450.39 1691.38 1453.08 Q1694.58 1455.77 1694.58 1460.26 Q1694.58 1462.39 1693.77 1464.31 Q1692.98 1466.2 1690.88 1468.8 Q1690.3 1469.47 1687.2 1472.69 Q1684.09 1475.88 1678.45 1481.64 Z\" fill=\"#000000\" fill-rule=\"nonzero\" fill-opacity=\"1\" /><path clip-path=\"url(#clip650)\" d=\"M2092.23 1455.09 L2080.43 1473.54 L2092.23 1473.54 L2092.23 1455.09 M2091.01 1451.02 L2096.89 1451.02 L2096.89 1473.54 L2101.82 1473.54 L2101.82 1477.43 L2096.89 1477.43 L2096.89 1485.58 L2092.23 1485.58 L2092.23 1477.43 L2076.63 1477.43 L2076.63 1472.92 L2091.01 1451.02 Z\" fill=\"#000000\" fill-rule=\"nonzero\" fill-opacity=\"1\" /><path clip-path=\"url(#clip650)\" d=\"M853.258 1520.52 L859.687 1520.52 L859.687 1568.04 L853.258 1568.04 L853.258 1520.52 Z\" fill=\"#000000\" fill-rule=\"nonzero\" fill-opacity=\"1\" /><path clip-path=\"url(#clip650)\" d=\"M901.86 1546.53 L901.86 1568.04 L896.004 1568.04 L896.004 1546.72 Q896.004 1541.66 894.03 1539.14 Q892.057 1536.63 888.11 1536.63 Q883.368 1536.63 880.63 1539.65 Q877.893 1542.68 877.893 1547.9 L877.893 1568.04 L872.005 1568.04 L872.005 1532.4 L877.893 1532.4 L877.893 1537.93 Q879.994 1534.72 882.827 1533.13 Q885.691 1531.54 889.415 1531.54 Q895.558 1531.54 898.709 1535.36 Q901.86 1539.14 901.86 1546.53 Z\" fill=\"#000000\" fill-rule=\"nonzero\" fill-opacity=\"1\" /><path clip-path=\"url(#clip650)\" d=\"M919.334 1522.27 L919.334 1532.4 L931.397 1532.4 L931.397 1536.95 L919.334 1536.95 L919.334 1556.3 Q919.334 1560.66 920.512 1561.9 Q921.721 1563.14 925.381 1563.14 L931.397 1563.14 L931.397 1568.04 L925.381 1568.04 Q918.602 1568.04 916.024 1565.53 Q913.446 1562.98 913.446 1556.3 L913.446 1536.95 L909.149 1536.95 L909.149 1532.4 L913.446 1532.4 L913.446 1522.27 L919.334 1522.27 Z\" fill=\"#000000\" fill-rule=\"nonzero\" fill-opacity=\"1\" /><path clip-path=\"url(#clip650)\" d=\"M969.591 1548.76 L969.591 1551.62 L942.664 1551.62 Q943.046 1557.67 946.293 1560.85 Q949.571 1564 955.396 1564 Q958.769 1564 961.92 1563.17 Q965.103 1562.35 968.223 1560.69 L968.223 1566.23 Q965.071 1567.57 961.761 1568.27 Q958.451 1568.97 955.045 1568.97 Q946.515 1568.97 941.518 1564 Q936.553 1559.04 936.553 1550.57 Q936.553 1541.82 941.264 1536.69 Q946.006 1531.54 954.027 1531.54 Q961.22 1531.54 965.39 1536.18 Q969.591 1540.8 969.591 1548.76 M963.735 1547.04 Q963.671 1542.23 961.029 1539.37 Q958.419 1536.5 954.091 1536.5 Q949.189 1536.5 946.229 1539.27 Q943.301 1542.04 942.855 1547.07 L963.735 1547.04 Z\" fill=\"#000000\" fill-rule=\"nonzero\" fill-opacity=\"1\" /><path clip-path=\"url(#clip650)\" d=\"M1002.66 1549.81 Q1002.66 1543.44 1000.02 1539.94 Q997.409 1536.44 992.667 1536.44 Q987.956 1536.44 985.314 1539.94 Q982.704 1543.44 982.704 1549.81 Q982.704 1556.14 985.314 1559.64 Q987.956 1563.14 992.667 1563.14 Q997.409 1563.14 1000.02 1559.64 Q1002.66 1556.14 1002.66 1549.81 M1008.52 1563.62 Q1008.52 1572.72 1004.48 1577.15 Q1000.43 1581.6 992.094 1581.6 Q989.007 1581.6 986.269 1581.13 Q983.532 1580.68 980.954 1579.72 L980.954 1574.03 Q983.532 1575.43 986.046 1576.1 Q988.561 1576.76 991.171 1576.76 Q996.932 1576.76 999.796 1573.74 Q1002.66 1570.75 1002.66 1564.67 L1002.66 1561.77 Q1000.85 1564.92 998.014 1566.48 Q995.181 1568.04 991.235 1568.04 Q984.678 1568.04 980.667 1563.05 Q976.657 1558.05 976.657 1549.81 Q976.657 1541.53 980.667 1536.53 Q984.678 1531.54 991.235 1531.54 Q995.181 1531.54 998.014 1533.1 Q1000.85 1534.66 1002.66 1537.81 L1002.66 1532.4 L1008.52 1532.4 L1008.52 1563.62 Z\" fill=\"#000000\" fill-rule=\"nonzero\" fill-opacity=\"1\" /><path clip-path=\"url(#clip650)\" d=\"M1051.07 1548.76 L1051.07 1551.62 L1024.15 1551.62 Q1024.53 1557.67 1027.77 1560.85 Q1031.05 1564 1036.88 1564 Q1040.25 1564 1043.4 1563.17 Q1046.58 1562.35 1049.7 1560.69 L1049.7 1566.23 Q1046.55 1567.57 1043.24 1568.27 Q1039.93 1568.97 1036.53 1568.97 Q1028 1568.97 1023 1564 Q1018.03 1559.04 1018.03 1550.57 Q1018.03 1541.82 1022.74 1536.69 Q1027.49 1531.54 1035.51 1531.54 Q1042.7 1531.54 1046.87 1536.18 Q1051.07 1540.8 1051.07 1548.76 M1045.22 1547.04 Q1045.15 1542.23 1042.51 1539.37 Q1039.9 1536.5 1035.57 1536.5 Q1030.67 1536.5 1027.71 1539.27 Q1024.78 1542.04 1024.34 1547.07 L1045.22 1547.04 Z\" fill=\"#000000\" fill-rule=\"nonzero\" fill-opacity=\"1\" /><path clip-path=\"url(#clip650)\" d=\"M1081.34 1537.87 Q1080.35 1537.3 1079.18 1537.04 Q1078.03 1536.76 1076.63 1536.76 Q1071.67 1536.76 1068.99 1540 Q1066.35 1543.22 1066.35 1549.27 L1066.35 1568.04 L1060.46 1568.04 L1060.46 1532.4 L1066.35 1532.4 L1066.35 1537.93 Q1068.2 1534.69 1071.16 1533.13 Q1074.12 1531.54 1078.35 1531.54 Q1078.95 1531.54 1079.69 1531.63 Q1080.42 1531.7 1081.31 1531.85 L1081.34 1537.87 Z\" fill=\"#000000\" fill-rule=\"nonzero\" fill-opacity=\"1\" /><path clip-path=\"url(#clip650)\" d=\"M1110.21 1533.45 L1110.21 1538.98 Q1107.73 1537.71 1105.05 1537.07 Q1102.38 1536.44 1099.52 1536.44 Q1095.15 1536.44 1092.96 1537.77 Q1090.79 1539.11 1090.79 1541.79 Q1090.79 1543.82 1092.35 1545 Q1093.91 1546.15 1098.62 1547.2 L1100.63 1547.64 Q1106.87 1548.98 1109.48 1551.43 Q1112.12 1553.85 1112.12 1558.21 Q1112.12 1563.17 1108.17 1566.07 Q1104.26 1568.97 1097.38 1568.97 Q1094.52 1568.97 1091.4 1568.39 Q1088.31 1567.85 1084.87 1566.74 L1084.87 1560.69 Q1088.12 1562.38 1091.27 1563.24 Q1094.42 1564.07 1097.51 1564.07 Q1101.65 1564.07 1103.88 1562.66 Q1106.1 1561.23 1106.1 1558.65 Q1106.1 1556.27 1104.48 1554.99 Q1102.89 1553.72 1097.45 1552.54 L1095.41 1552.07 Q1089.97 1550.92 1087.55 1548.56 Q1085.13 1546.18 1085.13 1542.04 Q1085.13 1537.01 1088.69 1534.27 Q1092.26 1531.54 1098.81 1531.54 Q1102.06 1531.54 1104.93 1532.01 Q1107.79 1532.49 1110.21 1533.45 Z\" fill=\"#000000\" fill-rule=\"nonzero\" fill-opacity=\"1\" /><path clip-path=\"url(#clip650)\" d=\"M1167.76 1550.25 Q1167.76 1543.79 1165.08 1540.13 Q1162.44 1536.44 1157.79 1536.44 Q1153.15 1536.44 1150.47 1540.13 Q1147.83 1543.79 1147.83 1550.25 Q1147.83 1556.71 1150.47 1560.4 Q1153.15 1564.07 1157.79 1564.07 Q1162.44 1564.07 1165.08 1560.4 Q1167.76 1556.71 1167.76 1550.25 M1147.83 1537.81 Q1149.68 1534.62 1152.48 1533.1 Q1155.31 1531.54 1159.23 1531.54 Q1165.72 1531.54 1169.76 1536.69 Q1173.83 1541.85 1173.83 1550.25 Q1173.83 1558.65 1169.76 1563.81 Q1165.72 1568.97 1159.23 1568.97 Q1155.31 1568.97 1152.48 1567.44 Q1149.68 1565.88 1147.83 1562.7 L1147.83 1568.04 L1141.94 1568.04 L1141.94 1518.52 L1147.83 1518.52 L1147.83 1537.81 Z\" fill=\"#000000\" fill-rule=\"nonzero\" fill-opacity=\"1\" /><path clip-path=\"url(#clip650)\" d=\"M1214.03 1548.76 L1214.03 1551.62 L1187.11 1551.62 Q1187.49 1557.67 1190.74 1560.85 Q1194.01 1564 1199.84 1564 Q1203.21 1564 1206.36 1563.17 Q1209.55 1562.35 1212.67 1560.69 L1212.67 1566.23 Q1209.51 1567.57 1206.2 1568.27 Q1202.89 1568.97 1199.49 1568.97 Q1190.96 1568.97 1185.96 1564 Q1181 1559.04 1181 1550.57 Q1181 1541.82 1185.71 1536.69 Q1190.45 1531.54 1198.47 1531.54 Q1205.66 1531.54 1209.83 1536.18 Q1214.03 1540.8 1214.03 1548.76 M1208.18 1547.04 Q1208.11 1542.23 1205.47 1539.37 Q1202.86 1536.5 1198.53 1536.5 Q1193.63 1536.5 1190.67 1539.27 Q1187.74 1542.04 1187.3 1547.07 L1208.18 1547.04 Z\" fill=\"#000000\" fill-rule=\"nonzero\" fill-opacity=\"1\" /><path clip-path=\"url(#clip650)\" d=\"M1229.44 1522.27 L1229.44 1532.4 L1241.5 1532.4 L1241.5 1536.95 L1229.44 1536.95 L1229.44 1556.3 Q1229.44 1560.66 1230.62 1561.9 Q1231.83 1563.14 1235.49 1563.14 L1241.5 1563.14 L1241.5 1568.04 L1235.49 1568.04 Q1228.71 1568.04 1226.13 1565.53 Q1223.55 1562.98 1223.55 1556.3 L1223.55 1536.95 L1219.25 1536.95 L1219.25 1532.4 L1223.55 1532.4 L1223.55 1522.27 L1229.44 1522.27 Z\" fill=\"#000000\" fill-rule=\"nonzero\" fill-opacity=\"1\" /><path clip-path=\"url(#clip650)\" d=\"M1245.8 1532.4 L1251.66 1532.4 L1258.98 1560.21 L1266.26 1532.4 L1273.17 1532.4 L1280.49 1560.21 L1287.78 1532.4 L1293.64 1532.4 L1284.31 1568.04 L1277.4 1568.04 L1269.73 1538.83 L1262.03 1568.04 L1255.12 1568.04 L1245.8 1532.4 Z\" fill=\"#000000\" fill-rule=\"nonzero\" fill-opacity=\"1\" /><path clip-path=\"url(#clip650)\" d=\"M1333.01 1548.76 L1333.01 1551.62 L1306.08 1551.62 Q1306.46 1557.67 1309.71 1560.85 Q1312.99 1564 1318.81 1564 Q1322.19 1564 1325.34 1563.17 Q1328.52 1562.35 1331.64 1560.69 L1331.64 1566.23 Q1328.49 1567.57 1325.18 1568.27 Q1321.87 1568.97 1318.46 1568.97 Q1309.93 1568.97 1304.94 1564 Q1299.97 1559.04 1299.97 1550.57 Q1299.97 1541.82 1304.68 1536.69 Q1309.42 1531.54 1317.45 1531.54 Q1324.64 1531.54 1328.81 1536.18 Q1333.01 1540.8 1333.01 1548.76 M1327.15 1547.04 Q1327.09 1542.23 1324.45 1539.37 Q1321.84 1536.5 1317.51 1536.5 Q1312.61 1536.5 1309.65 1539.27 Q1306.72 1542.04 1306.27 1547.07 L1327.15 1547.04 Z\" fill=\"#000000\" fill-rule=\"nonzero\" fill-opacity=\"1\" /><path clip-path=\"url(#clip650)\" d=\"M1373.11 1548.76 L1373.11 1551.62 L1346.19 1551.62 Q1346.57 1557.67 1349.81 1560.85 Q1353.09 1564 1358.92 1564 Q1362.29 1564 1365.44 1563.17 Q1368.63 1562.35 1371.74 1560.69 L1371.74 1566.23 Q1368.59 1567.57 1365.28 1568.27 Q1361.97 1568.97 1358.57 1568.97 Q1350.04 1568.97 1345.04 1564 Q1340.08 1559.04 1340.08 1550.57 Q1340.08 1541.82 1344.79 1536.69 Q1349.53 1531.54 1357.55 1531.54 Q1364.74 1531.54 1368.91 1536.18 Q1373.11 1540.8 1373.11 1548.76 M1367.26 1547.04 Q1367.19 1542.23 1364.55 1539.37 Q1361.94 1536.5 1357.61 1536.5 Q1352.71 1536.5 1349.75 1539.27 Q1346.82 1542.04 1346.38 1547.07 L1367.26 1547.04 Z\" fill=\"#000000\" fill-rule=\"nonzero\" fill-opacity=\"1\" /><path clip-path=\"url(#clip650)\" d=\"M1412.36 1546.53 L1412.36 1568.04 L1406.5 1568.04 L1406.5 1546.72 Q1406.5 1541.66 1404.53 1539.14 Q1402.55 1536.63 1398.61 1536.63 Q1393.87 1536.63 1391.13 1539.65 Q1388.39 1542.68 1388.39 1547.9 L1388.39 1568.04 L1382.5 1568.04 L1382.5 1532.4 L1388.39 1532.4 L1388.39 1537.93 Q1390.49 1534.72 1393.32 1533.13 Q1396.19 1531.54 1399.91 1531.54 Q1406.06 1531.54 1409.21 1535.36 Q1412.36 1539.14 1412.36 1546.53 Z\" fill=\"#000000\" fill-rule=\"nonzero\" fill-opacity=\"1\" /><path clip-path=\"url(#clip650)\" d=\"M1441.8 1547.58 L1458.95 1547.58 L1458.95 1552.8 L1441.8 1552.8 L1441.8 1547.58 Z\" fill=\"#000000\" fill-rule=\"nonzero\" fill-opacity=\"1\" /><path clip-path=\"url(#clip650)\" d=\"M1469.17 1520.52 L1494.41 1520.52 L1494.41 1525.93 L1475.06 1525.93 L1475.06 1537.58 Q1476.46 1537.11 1477.86 1536.88 Q1479.26 1536.63 1480.66 1536.63 Q1488.62 1536.63 1493.27 1540.99 Q1497.91 1545.35 1497.91 1552.8 Q1497.91 1560.47 1493.14 1564.73 Q1488.36 1568.97 1479.68 1568.97 Q1476.68 1568.97 1473.56 1568.46 Q1470.48 1567.95 1467.17 1566.93 L1467.17 1560.47 Q1470.03 1562.03 1473.09 1562.79 Q1476.14 1563.56 1479.55 1563.56 Q1485.05 1563.56 1488.27 1560.66 Q1491.48 1557.76 1491.48 1552.8 Q1491.48 1547.83 1488.27 1544.94 Q1485.05 1542.04 1479.55 1542.04 Q1476.97 1542.04 1474.39 1542.61 Q1471.85 1543.19 1469.17 1544.4 L1469.17 1520.52 Z\" fill=\"#000000\" fill-rule=\"nonzero\" fill-opacity=\"1\" /><path clip-path=\"url(#clip650)\" d=\"M1546.67 1550.12 Q1539.58 1550.12 1536.84 1551.75 Q1534.1 1553.37 1534.1 1557.29 Q1534.1 1560.4 1536.14 1562.25 Q1538.21 1564.07 1541.74 1564.07 Q1546.61 1564.07 1549.54 1560.63 Q1552.5 1557.16 1552.5 1551.43 L1552.5 1550.12 L1546.67 1550.12 M1558.36 1547.71 L1558.36 1568.04 L1552.5 1568.04 L1552.5 1562.63 Q1550.49 1565.88 1547.5 1567.44 Q1544.51 1568.97 1540.18 1568.97 Q1534.71 1568.97 1531.46 1565.91 Q1528.25 1562.82 1528.25 1557.67 Q1528.25 1551.65 1532.26 1548.6 Q1536.3 1545.54 1544.29 1545.54 L1552.5 1545.54 L1552.5 1544.97 Q1552.5 1540.93 1549.83 1538.73 Q1547.18 1536.5 1542.38 1536.5 Q1539.32 1536.5 1536.43 1537.23 Q1533.53 1537.97 1530.86 1539.43 L1530.86 1534.02 Q1534.07 1532.78 1537.09 1532.17 Q1540.12 1531.54 1542.98 1531.54 Q1550.72 1531.54 1554.54 1535.55 Q1558.36 1539.56 1558.36 1547.71 Z\" fill=\"#000000\" fill-rule=\"nonzero\" fill-opacity=\"1\" /><path clip-path=\"url(#clip650)\" d=\"M1600.05 1546.53 L1600.05 1568.04 L1594.19 1568.04 L1594.19 1546.72 Q1594.19 1541.66 1592.22 1539.14 Q1590.25 1536.63 1586.3 1536.63 Q1581.56 1536.63 1578.82 1539.65 Q1576.08 1542.68 1576.08 1547.9 L1576.08 1568.04 L1570.2 1568.04 L1570.2 1532.4 L1576.08 1532.4 L1576.08 1537.93 Q1578.18 1534.72 1581.02 1533.13 Q1583.88 1531.54 1587.61 1531.54 Q1593.75 1531.54 1596.9 1535.36 Q1600.05 1539.14 1600.05 1546.53 Z\" fill=\"#000000\" fill-rule=\"nonzero\" fill-opacity=\"1\" /><path clip-path=\"url(#clip650)\" d=\"M1635.19 1537.81 L1635.19 1518.52 L1641.05 1518.52 L1641.05 1568.04 L1635.19 1568.04 L1635.19 1562.7 Q1633.34 1565.88 1630.51 1567.44 Q1627.71 1568.97 1623.76 1568.97 Q1617.3 1568.97 1613.23 1563.81 Q1609.19 1558.65 1609.19 1550.25 Q1609.19 1541.85 1613.23 1536.69 Q1617.3 1531.54 1623.76 1531.54 Q1627.71 1531.54 1630.51 1533.1 Q1633.34 1534.62 1635.19 1537.81 M1615.23 1550.25 Q1615.23 1556.71 1617.87 1560.4 Q1620.55 1564.07 1625.2 1564.07 Q1629.84 1564.07 1632.52 1560.4 Q1635.19 1556.71 1635.19 1550.25 Q1635.19 1543.79 1632.52 1540.13 Q1629.84 1536.44 1625.2 1536.44 Q1620.55 1536.44 1617.87 1540.13 Q1615.23 1543.79 1615.23 1550.25 Z\" fill=\"#000000\" fill-rule=\"nonzero\" fill-opacity=\"1\" /><path clip-path=\"url(#clip650)\" d=\"M1674.72 1520.52 L1699.96 1520.52 L1699.96 1525.93 L1680.61 1525.93 L1680.61 1537.58 Q1682.01 1537.11 1683.41 1536.88 Q1684.81 1536.63 1686.21 1536.63 Q1694.17 1536.63 1698.81 1540.99 Q1703.46 1545.35 1703.46 1552.8 Q1703.46 1560.47 1698.69 1564.73 Q1693.91 1568.97 1685.22 1568.97 Q1682.23 1568.97 1679.11 1568.46 Q1676.03 1567.95 1672.72 1566.93 L1672.72 1560.47 Q1675.58 1562.03 1678.64 1562.79 Q1681.69 1563.56 1685.1 1563.56 Q1690.6 1563.56 1693.82 1560.66 Q1697.03 1557.76 1697.03 1552.8 Q1697.03 1547.83 1693.82 1544.94 Q1690.6 1542.04 1685.1 1542.04 Q1682.52 1542.04 1679.94 1542.61 Q1677.39 1543.19 1674.72 1544.4 L1674.72 1520.52 Z\" fill=\"#000000\" fill-rule=\"nonzero\" fill-opacity=\"1\" /><polyline clip-path=\"url(#clip652)\" style=\"stroke:#000000; stroke-linecap:round; stroke-linejoin:round; stroke-width:2; stroke-opacity:0.1; fill:none\" points=\"203.964,1384.24 2352.76,1384.24 \"/>\n",
              "<polyline clip-path=\"url(#clip652)\" style=\"stroke:#000000; stroke-linecap:round; stroke-linejoin:round; stroke-width:2; stroke-opacity:0.1; fill:none\" points=\"203.964,1124.63 2352.76,1124.63 \"/>\n",
              "<polyline clip-path=\"url(#clip652)\" style=\"stroke:#000000; stroke-linecap:round; stroke-linejoin:round; stroke-width:2; stroke-opacity:0.1; fill:none\" points=\"203.964,865.017 2352.76,865.017 \"/>\n",
              "<polyline clip-path=\"url(#clip652)\" style=\"stroke:#000000; stroke-linecap:round; stroke-linejoin:round; stroke-width:2; stroke-opacity:0.1; fill:none\" points=\"203.964,605.407 2352.76,605.407 \"/>\n",
              "<polyline clip-path=\"url(#clip652)\" style=\"stroke:#000000; stroke-linecap:round; stroke-linejoin:round; stroke-width:2; stroke-opacity:0.1; fill:none\" points=\"203.964,345.796 2352.76,345.796 \"/>\n",
              "<polyline clip-path=\"url(#clip652)\" style=\"stroke:#000000; stroke-linecap:round; stroke-linejoin:round; stroke-width:2; stroke-opacity:0.1; fill:none\" points=\"203.964,86.1857 2352.76,86.1857 \"/>\n",
              "<polyline clip-path=\"url(#clip650)\" style=\"stroke:#000000; stroke-linecap:round; stroke-linejoin:round; stroke-width:4; stroke-opacity:1; fill:none\" points=\"203.964,1423.18 203.964,47.2441 \"/>\n",
              "<polyline clip-path=\"url(#clip650)\" style=\"stroke:#000000; stroke-linecap:round; stroke-linejoin:round; stroke-width:4; stroke-opacity:1; fill:none\" points=\"203.964,1384.24 222.861,1384.24 \"/>\n",
              "<polyline clip-path=\"url(#clip650)\" style=\"stroke:#000000; stroke-linecap:round; stroke-linejoin:round; stroke-width:4; stroke-opacity:1; fill:none\" points=\"203.964,1124.63 222.861,1124.63 \"/>\n",
              "<polyline clip-path=\"url(#clip650)\" style=\"stroke:#000000; stroke-linecap:round; stroke-linejoin:round; stroke-width:4; stroke-opacity:1; fill:none\" points=\"203.964,865.017 222.861,865.017 \"/>\n",
              "<polyline clip-path=\"url(#clip650)\" style=\"stroke:#000000; stroke-linecap:round; stroke-linejoin:round; stroke-width:4; stroke-opacity:1; fill:none\" points=\"203.964,605.407 222.861,605.407 \"/>\n",
              "<polyline clip-path=\"url(#clip650)\" style=\"stroke:#000000; stroke-linecap:round; stroke-linejoin:round; stroke-width:4; stroke-opacity:1; fill:none\" points=\"203.964,345.796 222.861,345.796 \"/>\n",
              "<polyline clip-path=\"url(#clip650)\" style=\"stroke:#000000; stroke-linecap:round; stroke-linejoin:round; stroke-width:4; stroke-opacity:1; fill:none\" points=\"203.964,86.1857 222.861,86.1857 \"/>\n",
              "<path clip-path=\"url(#clip650)\" d=\"M156.019 1370.04 Q152.408 1370.04 150.579 1373.6 Q148.774 1377.14 148.774 1384.27 Q148.774 1391.38 150.579 1394.94 Q152.408 1398.49 156.019 1398.49 Q159.653 1398.49 161.459 1394.94 Q163.288 1391.38 163.288 1384.27 Q163.288 1377.14 161.459 1373.6 Q159.653 1370.04 156.019 1370.04 M156.019 1366.33 Q161.829 1366.33 164.885 1370.94 Q167.964 1375.52 167.964 1384.27 Q167.964 1393 164.885 1397.61 Q161.829 1402.19 156.019 1402.19 Q150.209 1402.19 147.13 1397.61 Q144.075 1393 144.075 1384.27 Q144.075 1375.52 147.13 1370.94 Q150.209 1366.33 156.019 1366.33 Z\" fill=\"#000000\" fill-rule=\"nonzero\" fill-opacity=\"1\" /><path clip-path=\"url(#clip650)\" d=\"M147.061 1107.35 L165.417 1107.35 L165.417 1111.28 L151.343 1111.28 L151.343 1119.76 Q152.362 1119.41 153.38 1119.25 Q154.399 1119.06 155.417 1119.06 Q161.204 1119.06 164.584 1122.23 Q167.964 1125.4 167.964 1130.82 Q167.964 1136.4 164.491 1139.5 Q161.019 1142.58 154.7 1142.58 Q152.524 1142.58 150.255 1142.21 Q148.01 1141.84 145.603 1141.1 L145.603 1136.4 Q147.686 1137.53 149.908 1138.09 Q152.13 1138.64 154.607 1138.64 Q158.612 1138.64 160.95 1136.54 Q163.288 1134.43 163.288 1130.82 Q163.288 1127.21 160.95 1125.1 Q158.612 1123 154.607 1123 Q152.732 1123 150.857 1123.41 Q149.005 1123.83 147.061 1124.71 L147.061 1107.35 Z\" fill=\"#000000\" fill-rule=\"nonzero\" fill-opacity=\"1\" /><path clip-path=\"url(#clip650)\" d=\"M116.668 878.362 L124.306 878.362 L124.306 851.996 L115.996 853.663 L115.996 849.404 L124.26 847.737 L128.936 847.737 L128.936 878.362 L136.575 878.362 L136.575 882.297 L116.668 882.297 L116.668 878.362 Z\" fill=\"#000000\" fill-rule=\"nonzero\" fill-opacity=\"1\" /><path clip-path=\"url(#clip650)\" d=\"M156.019 850.816 Q152.408 850.816 150.579 854.381 Q148.774 857.922 148.774 865.052 Q148.774 872.158 150.579 875.723 Q152.408 879.265 156.019 879.265 Q159.653 879.265 161.459 875.723 Q163.288 872.158 163.288 865.052 Q163.288 857.922 161.459 854.381 Q159.653 850.816 156.019 850.816 M156.019 847.112 Q161.829 847.112 164.885 851.719 Q167.964 856.302 167.964 865.052 Q167.964 873.779 164.885 878.385 Q161.829 882.969 156.019 882.969 Q150.209 882.969 147.13 878.385 Q144.075 873.779 144.075 865.052 Q144.075 856.302 147.13 851.719 Q150.209 847.112 156.019 847.112 Z\" fill=\"#000000\" fill-rule=\"nonzero\" fill-opacity=\"1\" /><path clip-path=\"url(#clip650)\" d=\"M117.663 618.752 L125.302 618.752 L125.302 592.386 L116.992 594.053 L116.992 589.793 L125.255 588.127 L129.931 588.127 L129.931 618.752 L137.57 618.752 L137.57 622.687 L117.663 622.687 L117.663 618.752 Z\" fill=\"#000000\" fill-rule=\"nonzero\" fill-opacity=\"1\" /><path clip-path=\"url(#clip650)\" d=\"M147.061 588.127 L165.417 588.127 L165.417 592.062 L151.343 592.062 L151.343 600.534 Q152.362 600.187 153.38 600.025 Q154.399 599.84 155.417 599.84 Q161.204 599.84 164.584 603.011 Q167.964 606.182 167.964 611.599 Q167.964 617.177 164.491 620.279 Q161.019 623.358 154.7 623.358 Q152.524 623.358 150.255 622.988 Q148.01 622.617 145.603 621.877 L145.603 617.177 Q147.686 618.312 149.908 618.867 Q152.13 619.423 154.607 619.423 Q158.612 619.423 160.95 617.316 Q163.288 615.21 163.288 611.599 Q163.288 607.988 160.95 605.881 Q158.612 603.775 154.607 603.775 Q152.732 603.775 150.857 604.191 Q149.005 604.608 147.061 605.488 L147.061 588.127 Z\" fill=\"#000000\" fill-rule=\"nonzero\" fill-opacity=\"1\" /><path clip-path=\"url(#clip650)\" d=\"M119.885 359.141 L136.204 359.141 L136.204 363.076 L114.26 363.076 L114.26 359.141 Q116.922 356.386 121.505 351.757 Q126.112 347.104 127.292 345.761 Q129.538 343.238 130.417 341.502 Q131.32 339.743 131.32 338.053 Q131.32 335.299 129.376 333.562 Q127.455 331.826 124.353 331.826 Q122.154 331.826 119.7 332.59 Q117.269 333.354 114.492 334.905 L114.492 330.183 Q117.316 329.049 119.769 328.47 Q122.223 327.891 124.26 327.891 Q129.63 327.891 132.825 330.576 Q136.019 333.262 136.019 337.752 Q136.019 339.882 135.209 341.803 Q134.422 343.701 132.316 346.294 Q131.737 346.965 128.635 350.183 Q125.533 353.377 119.885 359.141 Z\" fill=\"#000000\" fill-rule=\"nonzero\" fill-opacity=\"1\" /><path clip-path=\"url(#clip650)\" d=\"M156.019 331.595 Q152.408 331.595 150.579 335.16 Q148.774 338.701 148.774 345.831 Q148.774 352.937 150.579 356.502 Q152.408 360.044 156.019 360.044 Q159.653 360.044 161.459 356.502 Q163.288 352.937 163.288 345.831 Q163.288 338.701 161.459 335.16 Q159.653 331.595 156.019 331.595 M156.019 327.891 Q161.829 327.891 164.885 332.498 Q167.964 337.081 167.964 345.831 Q167.964 354.558 164.885 359.164 Q161.829 363.747 156.019 363.747 Q150.209 363.747 147.13 359.164 Q144.075 354.558 144.075 345.831 Q144.075 337.081 147.13 332.498 Q150.209 327.891 156.019 327.891 Z\" fill=\"#000000\" fill-rule=\"nonzero\" fill-opacity=\"1\" /><path clip-path=\"url(#clip650)\" d=\"M120.88 99.5305 L137.2 99.5305 L137.2 103.466 L115.256 103.466 L115.256 99.5305 Q117.918 96.7759 122.501 92.1463 Q127.107 87.4935 128.288 86.151 Q130.533 83.6278 131.413 81.8917 Q132.316 80.1325 132.316 78.4427 Q132.316 75.688 130.371 73.9519 Q128.45 72.2158 125.348 72.2158 Q123.149 72.2158 120.695 72.9797 Q118.265 73.7436 115.487 75.2945 L115.487 70.5723 Q118.311 69.4381 120.765 68.8594 Q123.218 68.2807 125.255 68.2807 Q130.626 68.2807 133.82 70.9658 Q137.015 73.651 137.015 78.1417 Q137.015 80.2714 136.204 82.1926 Q135.417 84.0908 133.311 86.6834 Q132.732 87.3546 129.63 90.5722 Q126.529 93.7667 120.88 99.5305 Z\" fill=\"#000000\" fill-rule=\"nonzero\" fill-opacity=\"1\" /><path clip-path=\"url(#clip650)\" d=\"M147.061 68.9057 L165.417 68.9057 L165.417 72.8408 L151.343 72.8408 L151.343 81.313 Q152.362 80.9658 153.38 80.8038 Q154.399 80.6186 155.417 80.6186 Q161.204 80.6186 164.584 83.7899 Q167.964 86.9611 167.964 92.3778 Q167.964 97.9564 164.491 101.058 Q161.019 104.137 154.7 104.137 Q152.524 104.137 150.255 103.767 Q148.01 103.396 145.603 102.655 L145.603 97.9564 Q147.686 99.0907 149.908 99.6462 Q152.13 100.202 154.607 100.202 Q158.612 100.202 160.95 98.0953 Q163.288 95.9889 163.288 92.3778 Q163.288 88.7667 160.95 86.6602 Q158.612 84.5537 154.607 84.5537 Q152.732 84.5537 150.857 84.9704 Q149.005 85.3871 147.061 86.2667 L147.061 68.9057 Z\" fill=\"#000000\" fill-rule=\"nonzero\" fill-opacity=\"1\" /><path clip-path=\"url(#clip650)\" d=\"M64.0042 821.706 L16.4842 839.848 L16.4842 833.132 L56.4926 818.078 L16.4842 802.991 L16.4842 796.307 L64.0042 814.417 L64.0042 821.706 Z\" fill=\"#000000\" fill-rule=\"nonzero\" fill-opacity=\"1\" /><path clip-path=\"url(#clip650)\" d=\"M46.0847 778.483 Q46.0847 785.581 47.7079 788.318 Q49.3312 791.055 53.2461 791.055 Q56.3653 791.055 58.2114 789.018 Q60.0256 786.949 60.0256 783.416 Q60.0256 778.547 56.5881 775.618 Q53.1188 772.658 47.3897 772.658 L46.0847 772.658 L46.0847 778.483 M43.6657 766.802 L64.0042 766.802 L64.0042 772.658 L58.5933 772.658 Q61.8398 774.663 63.3994 777.655 Q64.9272 780.647 64.9272 784.976 Q64.9272 790.45 61.8716 793.697 Q58.7843 796.912 53.6281 796.912 Q47.6125 796.912 44.5569 792.901 Q41.5014 788.859 41.5014 780.87 L41.5014 772.658 L40.9285 772.658 Q36.8862 772.658 34.6901 775.332 Q32.4621 777.974 32.4621 782.78 Q32.4621 785.835 33.1941 788.732 Q33.9262 791.628 35.3903 794.302 L29.9795 794.302 Q28.7381 791.087 28.1334 788.063 Q27.4968 785.04 27.4968 782.175 Q27.4968 774.441 31.5072 770.621 Q35.5176 766.802 43.6657 766.802 Z\" fill=\"#000000\" fill-rule=\"nonzero\" fill-opacity=\"1\" /><path clip-path=\"url(#clip650)\" d=\"M14.479 754.739 L14.479 748.882 L64.0042 748.882 L64.0042 754.739 L14.479 754.739 Z\" fill=\"#000000\" fill-rule=\"nonzero\" fill-opacity=\"1\" /><path clip-path=\"url(#clip650)\" d=\"M49.9359 737.233 L28.3562 737.233 L28.3562 731.377 L49.7131 731.377 Q54.7739 731.377 57.3202 729.403 Q59.8346 727.43 59.8346 723.483 Q59.8346 718.741 56.8109 716.003 Q53.7872 713.234 48.5673 713.234 L28.3562 713.234 L28.3562 707.378 L64.0042 707.378 L64.0042 713.234 L58.5296 713.234 Q61.7762 715.367 63.3676 718.2 Q64.9272 721.001 64.9272 724.724 Q64.9272 730.867 61.1078 734.05 Q57.2883 737.233 49.9359 737.233 M27.4968 722.496 L27.4968 722.496 Z\" fill=\"#000000\" fill-rule=\"nonzero\" fill-opacity=\"1\" /><path clip-path=\"url(#clip650)\" d=\"M44.7161 664.823 L47.5806 664.823 L47.5806 691.75 Q53.6281 691.368 56.8109 688.122 Q59.9619 684.843 59.9619 679.019 Q59.9619 675.645 59.1344 672.494 Q58.3069 669.311 56.6518 666.192 L62.1899 666.192 Q63.5267 669.343 64.227 672.653 Q64.9272 675.963 64.9272 679.369 Q64.9272 687.899 59.9619 692.896 Q54.9967 697.861 46.5303 697.861 Q37.7774 697.861 32.6531 693.151 Q27.4968 688.408 27.4968 680.387 Q27.4968 673.194 32.1438 669.025 Q36.7589 664.823 44.7161 664.823 M42.9973 670.68 Q38.1912 670.743 35.3266 673.385 Q32.4621 675.995 32.4621 680.324 Q32.4621 685.225 35.2312 688.185 Q38.0002 691.114 43.0292 691.559 L42.9973 670.68 Z\" fill=\"#000000\" fill-rule=\"nonzero\" fill-opacity=\"1\" /><path clip-path=\"url(#clip650)\" d=\"M29.4065 632.485 L34.9447 632.485 Q33.6716 634.968 33.035 637.642 Q32.3984 640.315 32.3984 643.18 Q32.3984 647.54 33.7352 649.736 Q35.072 651.901 37.7456 651.901 Q39.7826 651.901 40.9603 650.341 Q42.1061 648.782 43.1565 644.071 L43.6021 642.066 Q44.9389 635.827 47.3897 633.217 Q49.8086 630.576 54.1691 630.576 Q59.1344 630.576 62.0308 634.522 Q64.9272 638.437 64.9272 645.312 Q64.9272 648.177 64.3543 651.296 Q63.8132 654.383 62.6992 657.821 L56.6518 657.821 Q58.3387 654.574 59.198 651.423 Q60.0256 648.272 60.0256 645.185 Q60.0256 641.047 58.6251 638.819 Q57.1929 636.591 54.6147 636.591 Q52.2276 636.591 50.9545 638.215 Q49.6813 639.806 48.5037 645.249 L48.0262 647.286 Q46.8804 652.728 44.5251 655.147 Q42.138 657.566 38.0002 657.566 Q32.9713 657.566 30.2341 654.001 Q27.4968 650.437 27.4968 643.88 Q27.4968 640.633 27.9743 637.769 Q28.4517 634.904 29.4065 632.485 Z\" fill=\"#000000\" fill-rule=\"nonzero\" fill-opacity=\"1\" /><polyline clip-path=\"url(#clip652)\" style=\"stroke:#009af9; stroke-linecap:round; stroke-linejoin:round; stroke-width:4; stroke-opacity:1; fill:none\" points=\"264.778,86.1857 467.495,553.485 670.211,916.939 872.927,1176.55 1075.64,1332.32 1278.36,1384.24 1481.08,1332.32 1683.79,1176.55 1886.51,916.939 2089.22,553.485 2291.94,86.1857 \"/>\n",
              "<path clip-path=\"url(#clip650)\" d=\"M1705.44 1377.32 L2281.13 1377.32 L2281.13 1273.64 L1705.44 1273.64  Z\" fill=\"#ffffff\" fill-rule=\"evenodd\" fill-opacity=\"1\"/>\n",
              "<polyline clip-path=\"url(#clip650)\" style=\"stroke:#000000; stroke-linecap:round; stroke-linejoin:round; stroke-width:4; stroke-opacity:1; fill:none\" points=\"1705.44,1377.32 2281.13,1377.32 2281.13,1273.64 1705.44,1273.64 1705.44,1377.32 \"/>\n",
              "<polyline clip-path=\"url(#clip650)\" style=\"stroke:#009af9; stroke-linecap:round; stroke-linejoin:round; stroke-width:4; stroke-opacity:1; fill:none\" points=\"1729.32,1325.48 1872.57,1325.48 \"/>\n",
              "<path clip-path=\"url(#clip650)\" d=\"M1918.69 1309.33 L1918.69 1313.89 Q1916.03 1312.62 1913.67 1311.99 Q1911.31 1311.37 1909.11 1311.37 Q1905.29 1311.37 1903.2 1312.85 Q1901.14 1314.33 1901.14 1317.06 Q1901.14 1319.35 1902.51 1320.53 Q1903.9 1321.69 1907.74 1322.41 L1910.57 1322.99 Q1915.8 1323.98 1918.27 1326.51 Q1920.77 1329.01 1920.77 1333.22 Q1920.77 1338.24 1917.39 1340.83 Q1914.04 1343.43 1907.53 1343.43 Q1905.08 1343.43 1902.3 1342.87 Q1899.55 1342.32 1896.58 1341.23 L1896.58 1336.41 Q1899.43 1338.01 1902.16 1338.82 Q1904.89 1339.63 1907.53 1339.63 Q1911.54 1339.63 1913.71 1338.06 Q1915.89 1336.48 1915.89 1333.57 Q1915.89 1331.02 1914.32 1329.58 Q1912.77 1328.15 1909.2 1327.43 L1906.35 1326.88 Q1901.12 1325.83 1898.78 1323.61 Q1896.45 1321.39 1896.45 1317.43 Q1896.45 1312.85 1899.66 1310.21 Q1902.9 1307.57 1908.58 1307.57 Q1911.01 1307.57 1913.53 1308.01 Q1916.05 1308.45 1918.69 1309.33 Z\" fill=\"#000000\" fill-rule=\"nonzero\" fill-opacity=\"1\" /><path clip-path=\"url(#clip650)\" d=\"M1930.43 1329.82 Q1930.43 1334.51 1932.35 1337.2 Q1934.29 1339.86 1937.67 1339.86 Q1941.05 1339.86 1943 1337.2 Q1944.94 1334.51 1944.94 1329.82 Q1944.94 1325.12 1943 1322.45 Q1941.05 1319.77 1937.67 1319.77 Q1934.29 1319.77 1932.35 1322.45 Q1930.43 1325.12 1930.43 1329.82 M1944.94 1338.87 Q1943.6 1341.18 1941.54 1342.32 Q1939.5 1343.43 1936.63 1343.43 Q1931.93 1343.43 1928.97 1339.68 Q1926.03 1335.93 1926.03 1329.82 Q1926.03 1323.7 1928.97 1319.95 Q1931.93 1316.2 1936.63 1316.2 Q1939.5 1316.2 1941.54 1317.34 Q1943.6 1318.45 1944.94 1320.76 L1944.94 1316.83 L1949.2 1316.83 L1949.2 1352.62 L1944.94 1352.62 L1944.94 1338.87 Z\" fill=\"#000000\" fill-rule=\"nonzero\" fill-opacity=\"1\" /><path clip-path=\"url(#clip650)\" d=\"M1957.53 1332.52 L1957.53 1316.83 L1961.79 1316.83 L1961.79 1332.36 Q1961.79 1336.04 1963.23 1337.89 Q1964.66 1339.72 1967.53 1339.72 Q1970.98 1339.72 1972.97 1337.52 Q1974.99 1335.32 1974.99 1331.53 L1974.99 1316.83 L1979.25 1316.83 L1979.25 1342.76 L1974.99 1342.76 L1974.99 1338.77 Q1973.44 1341.13 1971.38 1342.29 Q1969.34 1343.43 1966.63 1343.43 Q1962.16 1343.43 1959.85 1340.65 Q1957.53 1337.87 1957.53 1332.52 M1968.25 1316.2 L1968.25 1316.2 Z\" fill=\"#000000\" fill-rule=\"nonzero\" fill-opacity=\"1\" /><path clip-path=\"url(#clip650)\" d=\"M1999.8 1329.72 Q1994.64 1329.72 1992.65 1330.9 Q1990.66 1332.08 1990.66 1334.93 Q1990.66 1337.2 1992.14 1338.54 Q1993.64 1339.86 1996.21 1339.86 Q1999.76 1339.86 2001.89 1337.36 Q2004.04 1334.84 2004.04 1330.67 L2004.04 1329.72 L1999.8 1329.72 M2008.3 1327.96 L2008.3 1342.76 L2004.04 1342.76 L2004.04 1338.82 Q2002.58 1341.18 2000.4 1342.32 Q1998.23 1343.43 1995.08 1343.43 Q1991.1 1343.43 1988.74 1341.2 Q1986.4 1338.96 1986.4 1335.21 Q1986.4 1330.83 1989.32 1328.61 Q1992.26 1326.39 1998.07 1326.39 L2004.04 1326.39 L2004.04 1325.97 Q2004.04 1323.03 2002.09 1321.44 Q2000.17 1319.82 1996.68 1319.82 Q1994.45 1319.82 1992.35 1320.35 Q1990.24 1320.88 1988.3 1321.95 L1988.3 1318.01 Q1990.64 1317.11 1992.83 1316.67 Q1995.03 1316.2 1997.12 1316.2 Q2002.74 1316.2 2005.52 1319.12 Q2008.3 1322.04 2008.3 1327.96 Z\" fill=\"#000000\" fill-rule=\"nonzero\" fill-opacity=\"1\" /><path clip-path=\"url(#clip650)\" d=\"M2032.09 1320.81 Q2031.38 1320.39 2030.52 1320.21 Q2029.69 1320 2028.67 1320 Q2025.06 1320 2023.11 1322.36 Q2021.19 1324.7 2021.19 1329.1 L2021.19 1342.76 L2016.91 1342.76 L2016.91 1316.83 L2021.19 1316.83 L2021.19 1320.86 Q2022.53 1318.5 2024.69 1317.36 Q2026.84 1316.2 2029.92 1316.2 Q2030.36 1316.2 2030.89 1316.27 Q2031.42 1316.32 2032.07 1316.44 L2032.09 1320.81 Z\" fill=\"#000000\" fill-rule=\"nonzero\" fill-opacity=\"1\" /><path clip-path=\"url(#clip650)\" d=\"M2057.69 1328.73 L2057.69 1330.81 L2038.11 1330.81 Q2038.39 1335.21 2040.75 1337.52 Q2043.13 1339.82 2047.37 1339.82 Q2049.82 1339.82 2052.12 1339.21 Q2054.43 1338.61 2056.7 1337.41 L2056.7 1341.44 Q2054.41 1342.41 2052 1342.92 Q2049.59 1343.43 2047.12 1343.43 Q2040.91 1343.43 2037.28 1339.82 Q2033.67 1336.2 2033.67 1330.05 Q2033.67 1323.68 2037.09 1319.95 Q2040.54 1316.2 2046.38 1316.2 Q2051.61 1316.2 2054.64 1319.58 Q2057.69 1322.94 2057.69 1328.73 M2053.44 1327.48 Q2053.39 1323.98 2051.47 1321.9 Q2049.57 1319.82 2046.42 1319.82 Q2042.86 1319.82 2040.7 1321.83 Q2038.57 1323.84 2038.25 1327.5 L2053.44 1327.48 Z\" fill=\"#000000\" fill-rule=\"nonzero\" fill-opacity=\"1\" /><path clip-path=\"url(#clip650)\" d=\"M2081.75 1320.76 L2081.75 1306.74 L2086 1306.74 L2086 1342.76 L2081.75 1342.76 L2081.75 1338.87 Q2080.4 1341.18 2078.34 1342.32 Q2076.31 1343.43 2073.44 1343.43 Q2068.74 1343.43 2065.77 1339.68 Q2062.83 1335.93 2062.83 1329.82 Q2062.83 1323.7 2065.77 1319.95 Q2068.74 1316.2 2073.44 1316.2 Q2076.31 1316.2 2078.34 1317.34 Q2080.4 1318.45 2081.75 1320.76 M2067.23 1329.82 Q2067.23 1334.51 2069.15 1337.2 Q2071.1 1339.86 2074.48 1339.86 Q2077.86 1339.86 2079.8 1337.2 Q2081.75 1334.51 2081.75 1329.82 Q2081.75 1325.12 2079.8 1322.45 Q2077.86 1319.77 2074.48 1319.77 Q2071.1 1319.77 2069.15 1322.45 Q2067.23 1325.12 2067.23 1329.82 Z\" fill=\"#000000\" fill-rule=\"nonzero\" fill-opacity=\"1\" /><path clip-path=\"url(#clip650)\" d=\"M2106.79 1316.83 L2111.31 1316.83 L2119.41 1338.59 L2127.51 1316.83 L2132.02 1316.83 L2122.3 1342.76 L2116.51 1342.76 L2106.79 1316.83 Z\" fill=\"#000000\" fill-rule=\"nonzero\" fill-opacity=\"1\" /><path clip-path=\"url(#clip650)\" d=\"M2149.69 1329.72 Q2144.52 1329.72 2142.53 1330.9 Q2140.54 1332.08 2140.54 1334.93 Q2140.54 1337.2 2142.02 1338.54 Q2143.53 1339.86 2146.1 1339.86 Q2149.64 1339.86 2151.77 1337.36 Q2153.92 1334.84 2153.92 1330.67 L2153.92 1329.72 L2149.69 1329.72 M2158.18 1327.96 L2158.18 1342.76 L2153.92 1342.76 L2153.92 1338.82 Q2152.46 1341.18 2150.29 1342.32 Q2148.11 1343.43 2144.96 1343.43 Q2140.98 1343.43 2138.62 1341.2 Q2136.28 1338.96 2136.28 1335.21 Q2136.28 1330.83 2139.2 1328.61 Q2142.14 1326.39 2147.95 1326.39 L2153.92 1326.39 L2153.92 1325.97 Q2153.92 1323.03 2151.98 1321.44 Q2150.06 1319.82 2146.56 1319.82 Q2144.34 1319.82 2142.23 1320.35 Q2140.13 1320.88 2138.18 1321.95 L2138.18 1318.01 Q2140.52 1317.11 2142.72 1316.67 Q2144.92 1316.2 2147 1316.2 Q2152.62 1316.2 2155.4 1319.12 Q2158.18 1322.04 2158.18 1327.96 Z\" fill=\"#000000\" fill-rule=\"nonzero\" fill-opacity=\"1\" /><path clip-path=\"url(#clip650)\" d=\"M2166.95 1306.74 L2171.21 1306.74 L2171.21 1342.76 L2166.95 1342.76 L2166.95 1306.74 Z\" fill=\"#000000\" fill-rule=\"nonzero\" fill-opacity=\"1\" /><path clip-path=\"url(#clip650)\" d=\"M2179.68 1332.52 L2179.68 1316.83 L2183.94 1316.83 L2183.94 1332.36 Q2183.94 1336.04 2185.38 1337.89 Q2186.81 1339.72 2189.68 1339.72 Q2193.13 1339.72 2195.12 1337.52 Q2197.14 1335.32 2197.14 1331.53 L2197.14 1316.83 L2201.4 1316.83 L2201.4 1342.76 L2197.14 1342.76 L2197.14 1338.77 Q2195.59 1341.13 2193.53 1342.29 Q2191.49 1343.43 2188.78 1343.43 Q2184.31 1343.43 2182 1340.65 Q2179.68 1337.87 2179.68 1332.52 M2190.4 1316.2 L2190.4 1316.2 Z\" fill=\"#000000\" fill-rule=\"nonzero\" fill-opacity=\"1\" /><path clip-path=\"url(#clip650)\" d=\"M2232.35 1328.73 L2232.35 1330.81 L2212.76 1330.81 Q2213.04 1335.21 2215.4 1337.52 Q2217.79 1339.82 2222.02 1339.82 Q2224.48 1339.82 2226.77 1339.21 Q2229.08 1338.61 2231.35 1337.41 L2231.35 1341.44 Q2229.06 1342.41 2226.65 1342.92 Q2224.24 1343.43 2221.77 1343.43 Q2215.56 1343.43 2211.93 1339.82 Q2208.32 1336.2 2208.32 1330.05 Q2208.32 1323.68 2211.75 1319.95 Q2215.19 1316.2 2221.03 1316.2 Q2226.26 1316.2 2229.29 1319.58 Q2232.35 1322.94 2232.35 1328.73 M2228.09 1327.48 Q2228.04 1323.98 2226.12 1321.9 Q2224.22 1319.82 2221.07 1319.82 Q2217.51 1319.82 2215.36 1321.83 Q2213.23 1323.84 2212.9 1327.5 L2228.09 1327.48 Z\" fill=\"#000000\" fill-rule=\"nonzero\" fill-opacity=\"1\" /><path clip-path=\"url(#clip650)\" d=\"M2255.87 1317.59 L2255.87 1321.62 Q2254.06 1320.7 2252.12 1320.23 Q2250.17 1319.77 2248.09 1319.77 Q2244.92 1319.77 2243.32 1320.74 Q2241.74 1321.71 2241.74 1323.66 Q2241.74 1325.14 2242.88 1326 Q2244.01 1326.83 2247.44 1327.59 L2248.9 1327.92 Q2253.43 1328.89 2255.33 1330.67 Q2257.25 1332.43 2257.25 1335.6 Q2257.25 1339.21 2254.38 1341.32 Q2251.54 1343.43 2246.54 1343.43 Q2244.45 1343.43 2242.18 1343.01 Q2239.94 1342.62 2237.44 1341.81 L2237.44 1337.41 Q2239.8 1338.63 2242.09 1339.26 Q2244.38 1339.86 2246.63 1339.86 Q2249.64 1339.86 2251.26 1338.84 Q2252.88 1337.8 2252.88 1335.93 Q2252.88 1334.19 2251.7 1333.26 Q2250.54 1332.34 2246.58 1331.48 L2245.1 1331.14 Q2241.14 1330.3 2239.38 1328.59 Q2237.62 1326.85 2237.62 1323.84 Q2237.62 1320.19 2240.22 1318.2 Q2242.81 1316.2 2247.58 1316.2 Q2249.94 1316.2 2252.02 1316.55 Q2254.11 1316.9 2255.87 1317.59 Z\" fill=\"#000000\" fill-rule=\"nonzero\" fill-opacity=\"1\" /></svg>\n"
            ],
            "text/html": [
              "<?xml version=\"1.0\" encoding=\"utf-8\"?>\n",
              "<svg xmlns=\"http://www.w3.org/2000/svg\" xmlns:xlink=\"http://www.w3.org/1999/xlink\" width=\"600\" height=\"400\" viewBox=\"0 0 2400 1600\">\n",
              "<defs>\n",
              "  <clipPath id=\"clip700\">\n",
              "    <rect x=\"0\" y=\"0\" width=\"2400\" height=\"1600\"/>\n",
              "  </clipPath>\n",
              "</defs>\n",
              "<path clip-path=\"url(#clip700)\" d=\"M0 1600 L2400 1600 L2400 8.88178e-14 L0 8.88178e-14  Z\" fill=\"#ffffff\" fill-rule=\"evenodd\" fill-opacity=\"1\"/>\n",
              "<defs>\n",
              "  <clipPath id=\"clip701\">\n",
              "    <rect x=\"480\" y=\"0\" width=\"1681\" height=\"1600\"/>\n",
              "  </clipPath>\n",
              "</defs>\n",
              "<path clip-path=\"url(#clip700)\" d=\"M203.964 1423.18 L2352.76 1423.18 L2352.76 47.2441 L203.964 47.2441  Z\" fill=\"#ffffff\" fill-rule=\"evenodd\" fill-opacity=\"1\"/>\n",
              "<defs>\n",
              "  <clipPath id=\"clip702\">\n",
              "    <rect x=\"203\" y=\"47\" width=\"2150\" height=\"1377\"/>\n",
              "  </clipPath>\n",
              "</defs>\n",
              "<polyline clip-path=\"url(#clip702)\" style=\"stroke:#000000; stroke-linecap:round; stroke-linejoin:round; stroke-width:2; stroke-opacity:0.1; fill:none\" points=\"467.495,1423.18 467.495,47.2441 \"/>\n",
              "<polyline clip-path=\"url(#clip702)\" style=\"stroke:#000000; stroke-linecap:round; stroke-linejoin:round; stroke-width:2; stroke-opacity:0.1; fill:none\" points=\"872.927,1423.18 872.927,47.2441 \"/>\n",
              "<polyline clip-path=\"url(#clip702)\" style=\"stroke:#000000; stroke-linecap:round; stroke-linejoin:round; stroke-width:2; stroke-opacity:0.1; fill:none\" points=\"1278.36,1423.18 1278.36,47.2441 \"/>\n",
              "<polyline clip-path=\"url(#clip702)\" style=\"stroke:#000000; stroke-linecap:round; stroke-linejoin:round; stroke-width:2; stroke-opacity:0.1; fill:none\" points=\"1683.79,1423.18 1683.79,47.2441 \"/>\n",
              "<polyline clip-path=\"url(#clip702)\" style=\"stroke:#000000; stroke-linecap:round; stroke-linejoin:round; stroke-width:2; stroke-opacity:0.1; fill:none\" points=\"2089.22,1423.18 2089.22,47.2441 \"/>\n",
              "<polyline clip-path=\"url(#clip700)\" style=\"stroke:#000000; stroke-linecap:round; stroke-linejoin:round; stroke-width:4; stroke-opacity:1; fill:none\" points=\"203.964,1423.18 2352.76,1423.18 \"/>\n",
              "<polyline clip-path=\"url(#clip700)\" style=\"stroke:#000000; stroke-linecap:round; stroke-linejoin:round; stroke-width:4; stroke-opacity:1; fill:none\" points=\"467.495,1423.18 467.495,1404.28 \"/>\n",
              "<polyline clip-path=\"url(#clip700)\" style=\"stroke:#000000; stroke-linecap:round; stroke-linejoin:round; stroke-width:4; stroke-opacity:1; fill:none\" points=\"872.927,1423.18 872.927,1404.28 \"/>\n",
              "<polyline clip-path=\"url(#clip700)\" style=\"stroke:#000000; stroke-linecap:round; stroke-linejoin:round; stroke-width:4; stroke-opacity:1; fill:none\" points=\"1278.36,1423.18 1278.36,1404.28 \"/>\n",
              "<polyline clip-path=\"url(#clip700)\" style=\"stroke:#000000; stroke-linecap:round; stroke-linejoin:round; stroke-width:4; stroke-opacity:1; fill:none\" points=\"1683.79,1423.18 1683.79,1404.28 \"/>\n",
              "<polyline clip-path=\"url(#clip700)\" style=\"stroke:#000000; stroke-linecap:round; stroke-linejoin:round; stroke-width:4; stroke-opacity:1; fill:none\" points=\"2089.22,1423.18 2089.22,1404.28 \"/>\n",
              "<path clip-path=\"url(#clip700)\" d=\"M436.395 1468.75 L466.071 1468.75 L466.071 1472.69 L436.395 1472.69 L436.395 1468.75 Z\" fill=\"#000000\" fill-rule=\"nonzero\" fill-opacity=\"1\" /><path clip-path=\"url(#clip700)\" d=\"M489.011 1455.09 L477.205 1473.54 L489.011 1473.54 L489.011 1455.09 M487.784 1451.02 L493.664 1451.02 L493.664 1473.54 L498.594 1473.54 L498.594 1477.43 L493.664 1477.43 L493.664 1485.58 L489.011 1485.58 L489.011 1477.43 L473.409 1477.43 L473.409 1472.92 L487.784 1451.02 Z\" fill=\"#000000\" fill-rule=\"nonzero\" fill-opacity=\"1\" /><path clip-path=\"url(#clip700)\" d=\"M842.87 1468.75 L872.545 1468.75 L872.545 1472.69 L842.87 1472.69 L842.87 1468.75 Z\" fill=\"#000000\" fill-rule=\"nonzero\" fill-opacity=\"1\" /><path clip-path=\"url(#clip700)\" d=\"M886.666 1481.64 L902.985 1481.64 L902.985 1485.58 L881.041 1485.58 L881.041 1481.64 Q883.703 1478.89 888.286 1474.26 Q892.892 1469.61 894.073 1468.27 Q896.318 1465.74 897.198 1464.01 Q898.101 1462.25 898.101 1460.56 Q898.101 1457.8 896.156 1456.07 Q894.235 1454.33 891.133 1454.33 Q888.934 1454.33 886.48 1455.09 Q884.05 1455.86 881.272 1457.41 L881.272 1452.69 Q884.096 1451.55 886.55 1450.97 Q889.004 1450.39 891.041 1450.39 Q896.411 1450.39 899.605 1453.08 Q902.8 1455.77 902.8 1460.26 Q902.8 1462.39 901.99 1464.31 Q901.203 1466.2 899.096 1468.8 Q898.517 1469.47 895.416 1472.69 Q892.314 1475.88 886.666 1481.64 Z\" fill=\"#000000\" fill-rule=\"nonzero\" fill-opacity=\"1\" /><path clip-path=\"url(#clip700)\" d=\"M1278.36 1454.1 Q1274.75 1454.1 1272.92 1457.66 Q1271.11 1461.2 1271.11 1468.33 Q1271.11 1475.44 1272.92 1479.01 Q1274.75 1482.55 1278.36 1482.55 Q1281.99 1482.55 1283.8 1479.01 Q1285.63 1475.44 1285.63 1468.33 Q1285.63 1461.2 1283.8 1457.66 Q1281.99 1454.1 1278.36 1454.1 M1278.36 1450.39 Q1284.17 1450.39 1287.23 1455 Q1290.3 1459.58 1290.3 1468.33 Q1290.3 1477.06 1287.23 1481.67 Q1284.17 1486.25 1278.36 1486.25 Q1272.55 1486.25 1269.47 1481.67 Q1266.42 1477.06 1266.42 1468.33 Q1266.42 1459.58 1269.47 1455 Q1272.55 1450.39 1278.36 1450.39 Z\" fill=\"#000000\" fill-rule=\"nonzero\" fill-opacity=\"1\" /><path clip-path=\"url(#clip700)\" d=\"M1678.45 1481.64 L1694.76 1481.64 L1694.76 1485.58 L1672.82 1485.58 L1672.82 1481.64 Q1675.48 1478.89 1680.07 1474.26 Q1684.67 1469.61 1685.85 1468.27 Q1688.1 1465.74 1688.98 1464.01 Q1689.88 1462.25 1689.88 1460.56 Q1689.88 1457.8 1687.94 1456.07 Q1686.01 1454.33 1682.91 1454.33 Q1680.71 1454.33 1678.26 1455.09 Q1675.83 1455.86 1673.05 1457.41 L1673.05 1452.69 Q1675.88 1451.55 1678.33 1450.97 Q1680.78 1450.39 1682.82 1450.39 Q1688.19 1450.39 1691.38 1453.08 Q1694.58 1455.77 1694.58 1460.26 Q1694.58 1462.39 1693.77 1464.31 Q1692.98 1466.2 1690.88 1468.8 Q1690.3 1469.47 1687.2 1472.69 Q1684.09 1475.88 1678.45 1481.64 Z\" fill=\"#000000\" fill-rule=\"nonzero\" fill-opacity=\"1\" /><path clip-path=\"url(#clip700)\" d=\"M2092.23 1455.09 L2080.43 1473.54 L2092.23 1473.54 L2092.23 1455.09 M2091.01 1451.02 L2096.89 1451.02 L2096.89 1473.54 L2101.82 1473.54 L2101.82 1477.43 L2096.89 1477.43 L2096.89 1485.58 L2092.23 1485.58 L2092.23 1477.43 L2076.63 1477.43 L2076.63 1472.92 L2091.01 1451.02 Z\" fill=\"#000000\" fill-rule=\"nonzero\" fill-opacity=\"1\" /><path clip-path=\"url(#clip700)\" d=\"M853.258 1520.52 L859.687 1520.52 L859.687 1568.04 L853.258 1568.04 L853.258 1520.52 Z\" fill=\"#000000\" fill-rule=\"nonzero\" fill-opacity=\"1\" /><path clip-path=\"url(#clip700)\" d=\"M901.86 1546.53 L901.86 1568.04 L896.004 1568.04 L896.004 1546.72 Q896.004 1541.66 894.03 1539.14 Q892.057 1536.63 888.11 1536.63 Q883.368 1536.63 880.63 1539.65 Q877.893 1542.68 877.893 1547.9 L877.893 1568.04 L872.005 1568.04 L872.005 1532.4 L877.893 1532.4 L877.893 1537.93 Q879.994 1534.72 882.827 1533.13 Q885.691 1531.54 889.415 1531.54 Q895.558 1531.54 898.709 1535.36 Q901.86 1539.14 901.86 1546.53 Z\" fill=\"#000000\" fill-rule=\"nonzero\" fill-opacity=\"1\" /><path clip-path=\"url(#clip700)\" d=\"M919.334 1522.27 L919.334 1532.4 L931.397 1532.4 L931.397 1536.95 L919.334 1536.95 L919.334 1556.3 Q919.334 1560.66 920.512 1561.9 Q921.721 1563.14 925.381 1563.14 L931.397 1563.14 L931.397 1568.04 L925.381 1568.04 Q918.602 1568.04 916.024 1565.53 Q913.446 1562.98 913.446 1556.3 L913.446 1536.95 L909.149 1536.95 L909.149 1532.4 L913.446 1532.4 L913.446 1522.27 L919.334 1522.27 Z\" fill=\"#000000\" fill-rule=\"nonzero\" fill-opacity=\"1\" /><path clip-path=\"url(#clip700)\" d=\"M969.591 1548.76 L969.591 1551.62 L942.664 1551.62 Q943.046 1557.67 946.293 1560.85 Q949.571 1564 955.396 1564 Q958.769 1564 961.92 1563.17 Q965.103 1562.35 968.223 1560.69 L968.223 1566.23 Q965.071 1567.57 961.761 1568.27 Q958.451 1568.97 955.045 1568.97 Q946.515 1568.97 941.518 1564 Q936.553 1559.04 936.553 1550.57 Q936.553 1541.82 941.264 1536.69 Q946.006 1531.54 954.027 1531.54 Q961.22 1531.54 965.39 1536.18 Q969.591 1540.8 969.591 1548.76 M963.735 1547.04 Q963.671 1542.23 961.029 1539.37 Q958.419 1536.5 954.091 1536.5 Q949.189 1536.5 946.229 1539.27 Q943.301 1542.04 942.855 1547.07 L963.735 1547.04 Z\" fill=\"#000000\" fill-rule=\"nonzero\" fill-opacity=\"1\" /><path clip-path=\"url(#clip700)\" d=\"M1002.66 1549.81 Q1002.66 1543.44 1000.02 1539.94 Q997.409 1536.44 992.667 1536.44 Q987.956 1536.44 985.314 1539.94 Q982.704 1543.44 982.704 1549.81 Q982.704 1556.14 985.314 1559.64 Q987.956 1563.14 992.667 1563.14 Q997.409 1563.14 1000.02 1559.64 Q1002.66 1556.14 1002.66 1549.81 M1008.52 1563.62 Q1008.52 1572.72 1004.48 1577.15 Q1000.43 1581.6 992.094 1581.6 Q989.007 1581.6 986.269 1581.13 Q983.532 1580.68 980.954 1579.72 L980.954 1574.03 Q983.532 1575.43 986.046 1576.1 Q988.561 1576.76 991.171 1576.76 Q996.932 1576.76 999.796 1573.74 Q1002.66 1570.75 1002.66 1564.67 L1002.66 1561.77 Q1000.85 1564.92 998.014 1566.48 Q995.181 1568.04 991.235 1568.04 Q984.678 1568.04 980.667 1563.05 Q976.657 1558.05 976.657 1549.81 Q976.657 1541.53 980.667 1536.53 Q984.678 1531.54 991.235 1531.54 Q995.181 1531.54 998.014 1533.1 Q1000.85 1534.66 1002.66 1537.81 L1002.66 1532.4 L1008.52 1532.4 L1008.52 1563.62 Z\" fill=\"#000000\" fill-rule=\"nonzero\" fill-opacity=\"1\" /><path clip-path=\"url(#clip700)\" d=\"M1051.07 1548.76 L1051.07 1551.62 L1024.15 1551.62 Q1024.53 1557.67 1027.77 1560.85 Q1031.05 1564 1036.88 1564 Q1040.25 1564 1043.4 1563.17 Q1046.58 1562.35 1049.7 1560.69 L1049.7 1566.23 Q1046.55 1567.57 1043.24 1568.27 Q1039.93 1568.97 1036.53 1568.97 Q1028 1568.97 1023 1564 Q1018.03 1559.04 1018.03 1550.57 Q1018.03 1541.82 1022.74 1536.69 Q1027.49 1531.54 1035.51 1531.54 Q1042.7 1531.54 1046.87 1536.18 Q1051.07 1540.8 1051.07 1548.76 M1045.22 1547.04 Q1045.15 1542.23 1042.51 1539.37 Q1039.9 1536.5 1035.57 1536.5 Q1030.67 1536.5 1027.71 1539.27 Q1024.78 1542.04 1024.34 1547.07 L1045.22 1547.04 Z\" fill=\"#000000\" fill-rule=\"nonzero\" fill-opacity=\"1\" /><path clip-path=\"url(#clip700)\" d=\"M1081.34 1537.87 Q1080.35 1537.3 1079.18 1537.04 Q1078.03 1536.76 1076.63 1536.76 Q1071.67 1536.76 1068.99 1540 Q1066.35 1543.22 1066.35 1549.27 L1066.35 1568.04 L1060.46 1568.04 L1060.46 1532.4 L1066.35 1532.4 L1066.35 1537.93 Q1068.2 1534.69 1071.16 1533.13 Q1074.12 1531.54 1078.35 1531.54 Q1078.95 1531.54 1079.69 1531.63 Q1080.42 1531.7 1081.31 1531.85 L1081.34 1537.87 Z\" fill=\"#000000\" fill-rule=\"nonzero\" fill-opacity=\"1\" /><path clip-path=\"url(#clip700)\" d=\"M1110.21 1533.45 L1110.21 1538.98 Q1107.73 1537.71 1105.05 1537.07 Q1102.38 1536.44 1099.52 1536.44 Q1095.15 1536.44 1092.96 1537.77 Q1090.79 1539.11 1090.79 1541.79 Q1090.79 1543.82 1092.35 1545 Q1093.91 1546.15 1098.62 1547.2 L1100.63 1547.64 Q1106.87 1548.98 1109.48 1551.43 Q1112.12 1553.85 1112.12 1558.21 Q1112.12 1563.17 1108.17 1566.07 Q1104.26 1568.97 1097.38 1568.97 Q1094.52 1568.97 1091.4 1568.39 Q1088.31 1567.85 1084.87 1566.74 L1084.87 1560.69 Q1088.12 1562.38 1091.27 1563.24 Q1094.42 1564.07 1097.51 1564.07 Q1101.65 1564.07 1103.88 1562.66 Q1106.1 1561.23 1106.1 1558.65 Q1106.1 1556.27 1104.48 1554.99 Q1102.89 1553.72 1097.45 1552.54 L1095.41 1552.07 Q1089.97 1550.92 1087.55 1548.56 Q1085.13 1546.18 1085.13 1542.04 Q1085.13 1537.01 1088.69 1534.27 Q1092.26 1531.54 1098.81 1531.54 Q1102.06 1531.54 1104.93 1532.01 Q1107.79 1532.49 1110.21 1533.45 Z\" fill=\"#000000\" fill-rule=\"nonzero\" fill-opacity=\"1\" /><path clip-path=\"url(#clip700)\" d=\"M1167.76 1550.25 Q1167.76 1543.79 1165.08 1540.13 Q1162.44 1536.44 1157.79 1536.44 Q1153.15 1536.44 1150.47 1540.13 Q1147.83 1543.79 1147.83 1550.25 Q1147.83 1556.71 1150.47 1560.4 Q1153.15 1564.07 1157.79 1564.07 Q1162.44 1564.07 1165.08 1560.4 Q1167.76 1556.71 1167.76 1550.25 M1147.83 1537.81 Q1149.68 1534.62 1152.48 1533.1 Q1155.31 1531.54 1159.23 1531.54 Q1165.72 1531.54 1169.76 1536.69 Q1173.83 1541.85 1173.83 1550.25 Q1173.83 1558.65 1169.76 1563.81 Q1165.72 1568.97 1159.23 1568.97 Q1155.31 1568.97 1152.48 1567.44 Q1149.68 1565.88 1147.83 1562.7 L1147.83 1568.04 L1141.94 1568.04 L1141.94 1518.52 L1147.83 1518.52 L1147.83 1537.81 Z\" fill=\"#000000\" fill-rule=\"nonzero\" fill-opacity=\"1\" /><path clip-path=\"url(#clip700)\" d=\"M1214.03 1548.76 L1214.03 1551.62 L1187.11 1551.62 Q1187.49 1557.67 1190.74 1560.85 Q1194.01 1564 1199.84 1564 Q1203.21 1564 1206.36 1563.17 Q1209.55 1562.35 1212.67 1560.69 L1212.67 1566.23 Q1209.51 1567.57 1206.2 1568.27 Q1202.89 1568.97 1199.49 1568.97 Q1190.96 1568.97 1185.96 1564 Q1181 1559.04 1181 1550.57 Q1181 1541.82 1185.71 1536.69 Q1190.45 1531.54 1198.47 1531.54 Q1205.66 1531.54 1209.83 1536.18 Q1214.03 1540.8 1214.03 1548.76 M1208.18 1547.04 Q1208.11 1542.23 1205.47 1539.37 Q1202.86 1536.5 1198.53 1536.5 Q1193.63 1536.5 1190.67 1539.27 Q1187.74 1542.04 1187.3 1547.07 L1208.18 1547.04 Z\" fill=\"#000000\" fill-rule=\"nonzero\" fill-opacity=\"1\" /><path clip-path=\"url(#clip700)\" d=\"M1229.44 1522.27 L1229.44 1532.4 L1241.5 1532.4 L1241.5 1536.95 L1229.44 1536.95 L1229.44 1556.3 Q1229.44 1560.66 1230.62 1561.9 Q1231.83 1563.14 1235.49 1563.14 L1241.5 1563.14 L1241.5 1568.04 L1235.49 1568.04 Q1228.71 1568.04 1226.13 1565.53 Q1223.55 1562.98 1223.55 1556.3 L1223.55 1536.95 L1219.25 1536.95 L1219.25 1532.4 L1223.55 1532.4 L1223.55 1522.27 L1229.44 1522.27 Z\" fill=\"#000000\" fill-rule=\"nonzero\" fill-opacity=\"1\" /><path clip-path=\"url(#clip700)\" d=\"M1245.8 1532.4 L1251.66 1532.4 L1258.98 1560.21 L1266.26 1532.4 L1273.17 1532.4 L1280.49 1560.21 L1287.78 1532.4 L1293.64 1532.4 L1284.31 1568.04 L1277.4 1568.04 L1269.73 1538.83 L1262.03 1568.04 L1255.12 1568.04 L1245.8 1532.4 Z\" fill=\"#000000\" fill-rule=\"nonzero\" fill-opacity=\"1\" /><path clip-path=\"url(#clip700)\" d=\"M1333.01 1548.76 L1333.01 1551.62 L1306.08 1551.62 Q1306.46 1557.67 1309.71 1560.85 Q1312.99 1564 1318.81 1564 Q1322.19 1564 1325.34 1563.17 Q1328.52 1562.35 1331.64 1560.69 L1331.64 1566.23 Q1328.49 1567.57 1325.18 1568.27 Q1321.87 1568.97 1318.46 1568.97 Q1309.93 1568.97 1304.94 1564 Q1299.97 1559.04 1299.97 1550.57 Q1299.97 1541.82 1304.68 1536.69 Q1309.42 1531.54 1317.45 1531.54 Q1324.64 1531.54 1328.81 1536.18 Q1333.01 1540.8 1333.01 1548.76 M1327.15 1547.04 Q1327.09 1542.23 1324.45 1539.37 Q1321.84 1536.5 1317.51 1536.5 Q1312.61 1536.5 1309.65 1539.27 Q1306.72 1542.04 1306.27 1547.07 L1327.15 1547.04 Z\" fill=\"#000000\" fill-rule=\"nonzero\" fill-opacity=\"1\" /><path clip-path=\"url(#clip700)\" d=\"M1373.11 1548.76 L1373.11 1551.62 L1346.19 1551.62 Q1346.57 1557.67 1349.81 1560.85 Q1353.09 1564 1358.92 1564 Q1362.29 1564 1365.44 1563.17 Q1368.63 1562.35 1371.74 1560.69 L1371.74 1566.23 Q1368.59 1567.57 1365.28 1568.27 Q1361.97 1568.97 1358.57 1568.97 Q1350.04 1568.97 1345.04 1564 Q1340.08 1559.04 1340.08 1550.57 Q1340.08 1541.82 1344.79 1536.69 Q1349.53 1531.54 1357.55 1531.54 Q1364.74 1531.54 1368.91 1536.18 Q1373.11 1540.8 1373.11 1548.76 M1367.26 1547.04 Q1367.19 1542.23 1364.55 1539.37 Q1361.94 1536.5 1357.61 1536.5 Q1352.71 1536.5 1349.75 1539.27 Q1346.82 1542.04 1346.38 1547.07 L1367.26 1547.04 Z\" fill=\"#000000\" fill-rule=\"nonzero\" fill-opacity=\"1\" /><path clip-path=\"url(#clip700)\" d=\"M1412.36 1546.53 L1412.36 1568.04 L1406.5 1568.04 L1406.5 1546.72 Q1406.5 1541.66 1404.53 1539.14 Q1402.55 1536.63 1398.61 1536.63 Q1393.87 1536.63 1391.13 1539.65 Q1388.39 1542.68 1388.39 1547.9 L1388.39 1568.04 L1382.5 1568.04 L1382.5 1532.4 L1388.39 1532.4 L1388.39 1537.93 Q1390.49 1534.72 1393.32 1533.13 Q1396.19 1531.54 1399.91 1531.54 Q1406.06 1531.54 1409.21 1535.36 Q1412.36 1539.14 1412.36 1546.53 Z\" fill=\"#000000\" fill-rule=\"nonzero\" fill-opacity=\"1\" /><path clip-path=\"url(#clip700)\" d=\"M1441.8 1547.58 L1458.95 1547.58 L1458.95 1552.8 L1441.8 1552.8 L1441.8 1547.58 Z\" fill=\"#000000\" fill-rule=\"nonzero\" fill-opacity=\"1\" /><path clip-path=\"url(#clip700)\" d=\"M1469.17 1520.52 L1494.41 1520.52 L1494.41 1525.93 L1475.06 1525.93 L1475.06 1537.58 Q1476.46 1537.11 1477.86 1536.88 Q1479.26 1536.63 1480.66 1536.63 Q1488.62 1536.63 1493.27 1540.99 Q1497.91 1545.35 1497.91 1552.8 Q1497.91 1560.47 1493.14 1564.73 Q1488.36 1568.97 1479.68 1568.97 Q1476.68 1568.97 1473.56 1568.46 Q1470.48 1567.95 1467.17 1566.93 L1467.17 1560.47 Q1470.03 1562.03 1473.09 1562.79 Q1476.14 1563.56 1479.55 1563.56 Q1485.05 1563.56 1488.27 1560.66 Q1491.48 1557.76 1491.48 1552.8 Q1491.48 1547.83 1488.27 1544.94 Q1485.05 1542.04 1479.55 1542.04 Q1476.97 1542.04 1474.39 1542.61 Q1471.85 1543.19 1469.17 1544.4 L1469.17 1520.52 Z\" fill=\"#000000\" fill-rule=\"nonzero\" fill-opacity=\"1\" /><path clip-path=\"url(#clip700)\" d=\"M1546.67 1550.12 Q1539.58 1550.12 1536.84 1551.75 Q1534.1 1553.37 1534.1 1557.29 Q1534.1 1560.4 1536.14 1562.25 Q1538.21 1564.07 1541.74 1564.07 Q1546.61 1564.07 1549.54 1560.63 Q1552.5 1557.16 1552.5 1551.43 L1552.5 1550.12 L1546.67 1550.12 M1558.36 1547.71 L1558.36 1568.04 L1552.5 1568.04 L1552.5 1562.63 Q1550.49 1565.88 1547.5 1567.44 Q1544.51 1568.97 1540.18 1568.97 Q1534.71 1568.97 1531.46 1565.91 Q1528.25 1562.82 1528.25 1557.67 Q1528.25 1551.65 1532.26 1548.6 Q1536.3 1545.54 1544.29 1545.54 L1552.5 1545.54 L1552.5 1544.97 Q1552.5 1540.93 1549.83 1538.73 Q1547.18 1536.5 1542.38 1536.5 Q1539.32 1536.5 1536.43 1537.23 Q1533.53 1537.97 1530.86 1539.43 L1530.86 1534.02 Q1534.07 1532.78 1537.09 1532.17 Q1540.12 1531.54 1542.98 1531.54 Q1550.72 1531.54 1554.54 1535.55 Q1558.36 1539.56 1558.36 1547.71 Z\" fill=\"#000000\" fill-rule=\"nonzero\" fill-opacity=\"1\" /><path clip-path=\"url(#clip700)\" d=\"M1600.05 1546.53 L1600.05 1568.04 L1594.19 1568.04 L1594.19 1546.72 Q1594.19 1541.66 1592.22 1539.14 Q1590.25 1536.63 1586.3 1536.63 Q1581.56 1536.63 1578.82 1539.65 Q1576.08 1542.68 1576.08 1547.9 L1576.08 1568.04 L1570.2 1568.04 L1570.2 1532.4 L1576.08 1532.4 L1576.08 1537.93 Q1578.18 1534.72 1581.02 1533.13 Q1583.88 1531.54 1587.61 1531.54 Q1593.75 1531.54 1596.9 1535.36 Q1600.05 1539.14 1600.05 1546.53 Z\" fill=\"#000000\" fill-rule=\"nonzero\" fill-opacity=\"1\" /><path clip-path=\"url(#clip700)\" d=\"M1635.19 1537.81 L1635.19 1518.52 L1641.05 1518.52 L1641.05 1568.04 L1635.19 1568.04 L1635.19 1562.7 Q1633.34 1565.88 1630.51 1567.44 Q1627.71 1568.97 1623.76 1568.97 Q1617.3 1568.97 1613.23 1563.81 Q1609.19 1558.65 1609.19 1550.25 Q1609.19 1541.85 1613.23 1536.69 Q1617.3 1531.54 1623.76 1531.54 Q1627.71 1531.54 1630.51 1533.1 Q1633.34 1534.62 1635.19 1537.81 M1615.23 1550.25 Q1615.23 1556.71 1617.87 1560.4 Q1620.55 1564.07 1625.2 1564.07 Q1629.84 1564.07 1632.52 1560.4 Q1635.19 1556.71 1635.19 1550.25 Q1635.19 1543.79 1632.52 1540.13 Q1629.84 1536.44 1625.2 1536.44 Q1620.55 1536.44 1617.87 1540.13 Q1615.23 1543.79 1615.23 1550.25 Z\" fill=\"#000000\" fill-rule=\"nonzero\" fill-opacity=\"1\" /><path clip-path=\"url(#clip700)\" d=\"M1674.72 1520.52 L1699.96 1520.52 L1699.96 1525.93 L1680.61 1525.93 L1680.61 1537.58 Q1682.01 1537.11 1683.41 1536.88 Q1684.81 1536.63 1686.21 1536.63 Q1694.17 1536.63 1698.81 1540.99 Q1703.46 1545.35 1703.46 1552.8 Q1703.46 1560.47 1698.69 1564.73 Q1693.91 1568.97 1685.22 1568.97 Q1682.23 1568.97 1679.11 1568.46 Q1676.03 1567.95 1672.72 1566.93 L1672.72 1560.47 Q1675.58 1562.03 1678.64 1562.79 Q1681.69 1563.56 1685.1 1563.56 Q1690.6 1563.56 1693.82 1560.66 Q1697.03 1557.76 1697.03 1552.8 Q1697.03 1547.83 1693.82 1544.94 Q1690.6 1542.04 1685.1 1542.04 Q1682.52 1542.04 1679.94 1542.61 Q1677.39 1543.19 1674.72 1544.4 L1674.72 1520.52 Z\" fill=\"#000000\" fill-rule=\"nonzero\" fill-opacity=\"1\" /><polyline clip-path=\"url(#clip702)\" style=\"stroke:#000000; stroke-linecap:round; stroke-linejoin:round; stroke-width:2; stroke-opacity:0.1; fill:none\" points=\"203.964,1384.24 2352.76,1384.24 \"/>\n",
              "<polyline clip-path=\"url(#clip702)\" style=\"stroke:#000000; stroke-linecap:round; stroke-linejoin:round; stroke-width:2; stroke-opacity:0.1; fill:none\" points=\"203.964,1124.63 2352.76,1124.63 \"/>\n",
              "<polyline clip-path=\"url(#clip702)\" style=\"stroke:#000000; stroke-linecap:round; stroke-linejoin:round; stroke-width:2; stroke-opacity:0.1; fill:none\" points=\"203.964,865.017 2352.76,865.017 \"/>\n",
              "<polyline clip-path=\"url(#clip702)\" style=\"stroke:#000000; stroke-linecap:round; stroke-linejoin:round; stroke-width:2; stroke-opacity:0.1; fill:none\" points=\"203.964,605.407 2352.76,605.407 \"/>\n",
              "<polyline clip-path=\"url(#clip702)\" style=\"stroke:#000000; stroke-linecap:round; stroke-linejoin:round; stroke-width:2; stroke-opacity:0.1; fill:none\" points=\"203.964,345.796 2352.76,345.796 \"/>\n",
              "<polyline clip-path=\"url(#clip702)\" style=\"stroke:#000000; stroke-linecap:round; stroke-linejoin:round; stroke-width:2; stroke-opacity:0.1; fill:none\" points=\"203.964,86.1857 2352.76,86.1857 \"/>\n",
              "<polyline clip-path=\"url(#clip700)\" style=\"stroke:#000000; stroke-linecap:round; stroke-linejoin:round; stroke-width:4; stroke-opacity:1; fill:none\" points=\"203.964,1423.18 203.964,47.2441 \"/>\n",
              "<polyline clip-path=\"url(#clip700)\" style=\"stroke:#000000; stroke-linecap:round; stroke-linejoin:round; stroke-width:4; stroke-opacity:1; fill:none\" points=\"203.964,1384.24 222.861,1384.24 \"/>\n",
              "<polyline clip-path=\"url(#clip700)\" style=\"stroke:#000000; stroke-linecap:round; stroke-linejoin:round; stroke-width:4; stroke-opacity:1; fill:none\" points=\"203.964,1124.63 222.861,1124.63 \"/>\n",
              "<polyline clip-path=\"url(#clip700)\" style=\"stroke:#000000; stroke-linecap:round; stroke-linejoin:round; stroke-width:4; stroke-opacity:1; fill:none\" points=\"203.964,865.017 222.861,865.017 \"/>\n",
              "<polyline clip-path=\"url(#clip700)\" style=\"stroke:#000000; stroke-linecap:round; stroke-linejoin:round; stroke-width:4; stroke-opacity:1; fill:none\" points=\"203.964,605.407 222.861,605.407 \"/>\n",
              "<polyline clip-path=\"url(#clip700)\" style=\"stroke:#000000; stroke-linecap:round; stroke-linejoin:round; stroke-width:4; stroke-opacity:1; fill:none\" points=\"203.964,345.796 222.861,345.796 \"/>\n",
              "<polyline clip-path=\"url(#clip700)\" style=\"stroke:#000000; stroke-linecap:round; stroke-linejoin:round; stroke-width:4; stroke-opacity:1; fill:none\" points=\"203.964,86.1857 222.861,86.1857 \"/>\n",
              "<path clip-path=\"url(#clip700)\" d=\"M156.019 1370.04 Q152.408 1370.04 150.579 1373.6 Q148.774 1377.14 148.774 1384.27 Q148.774 1391.38 150.579 1394.94 Q152.408 1398.49 156.019 1398.49 Q159.653 1398.49 161.459 1394.94 Q163.288 1391.38 163.288 1384.27 Q163.288 1377.14 161.459 1373.6 Q159.653 1370.04 156.019 1370.04 M156.019 1366.33 Q161.829 1366.33 164.885 1370.94 Q167.964 1375.52 167.964 1384.27 Q167.964 1393 164.885 1397.61 Q161.829 1402.19 156.019 1402.19 Q150.209 1402.19 147.13 1397.61 Q144.075 1393 144.075 1384.27 Q144.075 1375.52 147.13 1370.94 Q150.209 1366.33 156.019 1366.33 Z\" fill=\"#000000\" fill-rule=\"nonzero\" fill-opacity=\"1\" /><path clip-path=\"url(#clip700)\" d=\"M147.061 1107.35 L165.417 1107.35 L165.417 1111.28 L151.343 1111.28 L151.343 1119.76 Q152.362 1119.41 153.38 1119.25 Q154.399 1119.06 155.417 1119.06 Q161.204 1119.06 164.584 1122.23 Q167.964 1125.4 167.964 1130.82 Q167.964 1136.4 164.491 1139.5 Q161.019 1142.58 154.7 1142.58 Q152.524 1142.58 150.255 1142.21 Q148.01 1141.84 145.603 1141.1 L145.603 1136.4 Q147.686 1137.53 149.908 1138.09 Q152.13 1138.64 154.607 1138.64 Q158.612 1138.64 160.95 1136.54 Q163.288 1134.43 163.288 1130.82 Q163.288 1127.21 160.95 1125.1 Q158.612 1123 154.607 1123 Q152.732 1123 150.857 1123.41 Q149.005 1123.83 147.061 1124.71 L147.061 1107.35 Z\" fill=\"#000000\" fill-rule=\"nonzero\" fill-opacity=\"1\" /><path clip-path=\"url(#clip700)\" d=\"M116.668 878.362 L124.306 878.362 L124.306 851.996 L115.996 853.663 L115.996 849.404 L124.26 847.737 L128.936 847.737 L128.936 878.362 L136.575 878.362 L136.575 882.297 L116.668 882.297 L116.668 878.362 Z\" fill=\"#000000\" fill-rule=\"nonzero\" fill-opacity=\"1\" /><path clip-path=\"url(#clip700)\" d=\"M156.019 850.816 Q152.408 850.816 150.579 854.381 Q148.774 857.922 148.774 865.052 Q148.774 872.158 150.579 875.723 Q152.408 879.265 156.019 879.265 Q159.653 879.265 161.459 875.723 Q163.288 872.158 163.288 865.052 Q163.288 857.922 161.459 854.381 Q159.653 850.816 156.019 850.816 M156.019 847.112 Q161.829 847.112 164.885 851.719 Q167.964 856.302 167.964 865.052 Q167.964 873.779 164.885 878.385 Q161.829 882.969 156.019 882.969 Q150.209 882.969 147.13 878.385 Q144.075 873.779 144.075 865.052 Q144.075 856.302 147.13 851.719 Q150.209 847.112 156.019 847.112 Z\" fill=\"#000000\" fill-rule=\"nonzero\" fill-opacity=\"1\" /><path clip-path=\"url(#clip700)\" d=\"M117.663 618.752 L125.302 618.752 L125.302 592.386 L116.992 594.053 L116.992 589.793 L125.255 588.127 L129.931 588.127 L129.931 618.752 L137.57 618.752 L137.57 622.687 L117.663 622.687 L117.663 618.752 Z\" fill=\"#000000\" fill-rule=\"nonzero\" fill-opacity=\"1\" /><path clip-path=\"url(#clip700)\" d=\"M147.061 588.127 L165.417 588.127 L165.417 592.062 L151.343 592.062 L151.343 600.534 Q152.362 600.187 153.38 600.025 Q154.399 599.84 155.417 599.84 Q161.204 599.84 164.584 603.011 Q167.964 606.182 167.964 611.599 Q167.964 617.177 164.491 620.279 Q161.019 623.358 154.7 623.358 Q152.524 623.358 150.255 622.988 Q148.01 622.617 145.603 621.877 L145.603 617.177 Q147.686 618.312 149.908 618.867 Q152.13 619.423 154.607 619.423 Q158.612 619.423 160.95 617.316 Q163.288 615.21 163.288 611.599 Q163.288 607.988 160.95 605.881 Q158.612 603.775 154.607 603.775 Q152.732 603.775 150.857 604.191 Q149.005 604.608 147.061 605.488 L147.061 588.127 Z\" fill=\"#000000\" fill-rule=\"nonzero\" fill-opacity=\"1\" /><path clip-path=\"url(#clip700)\" d=\"M119.885 359.141 L136.204 359.141 L136.204 363.076 L114.26 363.076 L114.26 359.141 Q116.922 356.386 121.505 351.757 Q126.112 347.104 127.292 345.761 Q129.538 343.238 130.417 341.502 Q131.32 339.743 131.32 338.053 Q131.32 335.299 129.376 333.562 Q127.455 331.826 124.353 331.826 Q122.154 331.826 119.7 332.59 Q117.269 333.354 114.492 334.905 L114.492 330.183 Q117.316 329.049 119.769 328.47 Q122.223 327.891 124.26 327.891 Q129.63 327.891 132.825 330.576 Q136.019 333.262 136.019 337.752 Q136.019 339.882 135.209 341.803 Q134.422 343.701 132.316 346.294 Q131.737 346.965 128.635 350.183 Q125.533 353.377 119.885 359.141 Z\" fill=\"#000000\" fill-rule=\"nonzero\" fill-opacity=\"1\" /><path clip-path=\"url(#clip700)\" d=\"M156.019 331.595 Q152.408 331.595 150.579 335.16 Q148.774 338.701 148.774 345.831 Q148.774 352.937 150.579 356.502 Q152.408 360.044 156.019 360.044 Q159.653 360.044 161.459 356.502 Q163.288 352.937 163.288 345.831 Q163.288 338.701 161.459 335.16 Q159.653 331.595 156.019 331.595 M156.019 327.891 Q161.829 327.891 164.885 332.498 Q167.964 337.081 167.964 345.831 Q167.964 354.558 164.885 359.164 Q161.829 363.747 156.019 363.747 Q150.209 363.747 147.13 359.164 Q144.075 354.558 144.075 345.831 Q144.075 337.081 147.13 332.498 Q150.209 327.891 156.019 327.891 Z\" fill=\"#000000\" fill-rule=\"nonzero\" fill-opacity=\"1\" /><path clip-path=\"url(#clip700)\" d=\"M120.88 99.5305 L137.2 99.5305 L137.2 103.466 L115.256 103.466 L115.256 99.5305 Q117.918 96.7759 122.501 92.1463 Q127.107 87.4935 128.288 86.151 Q130.533 83.6278 131.413 81.8917 Q132.316 80.1325 132.316 78.4427 Q132.316 75.688 130.371 73.9519 Q128.45 72.2158 125.348 72.2158 Q123.149 72.2158 120.695 72.9797 Q118.265 73.7436 115.487 75.2945 L115.487 70.5723 Q118.311 69.4381 120.765 68.8594 Q123.218 68.2807 125.255 68.2807 Q130.626 68.2807 133.82 70.9658 Q137.015 73.651 137.015 78.1417 Q137.015 80.2714 136.204 82.1926 Q135.417 84.0908 133.311 86.6834 Q132.732 87.3546 129.63 90.5722 Q126.529 93.7667 120.88 99.5305 Z\" fill=\"#000000\" fill-rule=\"nonzero\" fill-opacity=\"1\" /><path clip-path=\"url(#clip700)\" d=\"M147.061 68.9057 L165.417 68.9057 L165.417 72.8408 L151.343 72.8408 L151.343 81.313 Q152.362 80.9658 153.38 80.8038 Q154.399 80.6186 155.417 80.6186 Q161.204 80.6186 164.584 83.7899 Q167.964 86.9611 167.964 92.3778 Q167.964 97.9564 164.491 101.058 Q161.019 104.137 154.7 104.137 Q152.524 104.137 150.255 103.767 Q148.01 103.396 145.603 102.655 L145.603 97.9564 Q147.686 99.0907 149.908 99.6462 Q152.13 100.202 154.607 100.202 Q158.612 100.202 160.95 98.0953 Q163.288 95.9889 163.288 92.3778 Q163.288 88.7667 160.95 86.6602 Q158.612 84.5537 154.607 84.5537 Q152.732 84.5537 150.857 84.9704 Q149.005 85.3871 147.061 86.2667 L147.061 68.9057 Z\" fill=\"#000000\" fill-rule=\"nonzero\" fill-opacity=\"1\" /><path clip-path=\"url(#clip700)\" d=\"M64.0042 821.706 L16.4842 839.848 L16.4842 833.132 L56.4926 818.078 L16.4842 802.991 L16.4842 796.307 L64.0042 814.417 L64.0042 821.706 Z\" fill=\"#000000\" fill-rule=\"nonzero\" fill-opacity=\"1\" /><path clip-path=\"url(#clip700)\" d=\"M46.0847 778.483 Q46.0847 785.581 47.7079 788.318 Q49.3312 791.055 53.2461 791.055 Q56.3653 791.055 58.2114 789.018 Q60.0256 786.949 60.0256 783.416 Q60.0256 778.547 56.5881 775.618 Q53.1188 772.658 47.3897 772.658 L46.0847 772.658 L46.0847 778.483 M43.6657 766.802 L64.0042 766.802 L64.0042 772.658 L58.5933 772.658 Q61.8398 774.663 63.3994 777.655 Q64.9272 780.647 64.9272 784.976 Q64.9272 790.45 61.8716 793.697 Q58.7843 796.912 53.6281 796.912 Q47.6125 796.912 44.5569 792.901 Q41.5014 788.859 41.5014 780.87 L41.5014 772.658 L40.9285 772.658 Q36.8862 772.658 34.6901 775.332 Q32.4621 777.974 32.4621 782.78 Q32.4621 785.835 33.1941 788.732 Q33.9262 791.628 35.3903 794.302 L29.9795 794.302 Q28.7381 791.087 28.1334 788.063 Q27.4968 785.04 27.4968 782.175 Q27.4968 774.441 31.5072 770.621 Q35.5176 766.802 43.6657 766.802 Z\" fill=\"#000000\" fill-rule=\"nonzero\" fill-opacity=\"1\" /><path clip-path=\"url(#clip700)\" d=\"M14.479 754.739 L14.479 748.882 L64.0042 748.882 L64.0042 754.739 L14.479 754.739 Z\" fill=\"#000000\" fill-rule=\"nonzero\" fill-opacity=\"1\" /><path clip-path=\"url(#clip700)\" d=\"M49.9359 737.233 L28.3562 737.233 L28.3562 731.377 L49.7131 731.377 Q54.7739 731.377 57.3202 729.403 Q59.8346 727.43 59.8346 723.483 Q59.8346 718.741 56.8109 716.003 Q53.7872 713.234 48.5673 713.234 L28.3562 713.234 L28.3562 707.378 L64.0042 707.378 L64.0042 713.234 L58.5296 713.234 Q61.7762 715.367 63.3676 718.2 Q64.9272 721.001 64.9272 724.724 Q64.9272 730.867 61.1078 734.05 Q57.2883 737.233 49.9359 737.233 M27.4968 722.496 L27.4968 722.496 Z\" fill=\"#000000\" fill-rule=\"nonzero\" fill-opacity=\"1\" /><path clip-path=\"url(#clip700)\" d=\"M44.7161 664.823 L47.5806 664.823 L47.5806 691.75 Q53.6281 691.368 56.8109 688.122 Q59.9619 684.843 59.9619 679.019 Q59.9619 675.645 59.1344 672.494 Q58.3069 669.311 56.6518 666.192 L62.1899 666.192 Q63.5267 669.343 64.227 672.653 Q64.9272 675.963 64.9272 679.369 Q64.9272 687.899 59.9619 692.896 Q54.9967 697.861 46.5303 697.861 Q37.7774 697.861 32.6531 693.151 Q27.4968 688.408 27.4968 680.387 Q27.4968 673.194 32.1438 669.025 Q36.7589 664.823 44.7161 664.823 M42.9973 670.68 Q38.1912 670.743 35.3266 673.385 Q32.4621 675.995 32.4621 680.324 Q32.4621 685.225 35.2312 688.185 Q38.0002 691.114 43.0292 691.559 L42.9973 670.68 Z\" fill=\"#000000\" fill-rule=\"nonzero\" fill-opacity=\"1\" /><path clip-path=\"url(#clip700)\" d=\"M29.4065 632.485 L34.9447 632.485 Q33.6716 634.968 33.035 637.642 Q32.3984 640.315 32.3984 643.18 Q32.3984 647.54 33.7352 649.736 Q35.072 651.901 37.7456 651.901 Q39.7826 651.901 40.9603 650.341 Q42.1061 648.782 43.1565 644.071 L43.6021 642.066 Q44.9389 635.827 47.3897 633.217 Q49.8086 630.576 54.1691 630.576 Q59.1344 630.576 62.0308 634.522 Q64.9272 638.437 64.9272 645.312 Q64.9272 648.177 64.3543 651.296 Q63.8132 654.383 62.6992 657.821 L56.6518 657.821 Q58.3387 654.574 59.198 651.423 Q60.0256 648.272 60.0256 645.185 Q60.0256 641.047 58.6251 638.819 Q57.1929 636.591 54.6147 636.591 Q52.2276 636.591 50.9545 638.215 Q49.6813 639.806 48.5037 645.249 L48.0262 647.286 Q46.8804 652.728 44.5251 655.147 Q42.138 657.566 38.0002 657.566 Q32.9713 657.566 30.2341 654.001 Q27.4968 650.437 27.4968 643.88 Q27.4968 640.633 27.9743 637.769 Q28.4517 634.904 29.4065 632.485 Z\" fill=\"#000000\" fill-rule=\"nonzero\" fill-opacity=\"1\" /><polyline clip-path=\"url(#clip702)\" style=\"stroke:#009af9; stroke-linecap:round; stroke-linejoin:round; stroke-width:4; stroke-opacity:1; fill:none\" points=\"264.778,86.1857 467.495,553.485 670.211,916.939 872.927,1176.55 1075.64,1332.32 1278.36,1384.24 1481.08,1332.32 1683.79,1176.55 1886.51,916.939 2089.22,553.485 2291.94,86.1857 \"/>\n",
              "<path clip-path=\"url(#clip700)\" d=\"M1705.44 1377.32 L2281.13 1377.32 L2281.13 1273.64 L1705.44 1273.64  Z\" fill=\"#ffffff\" fill-rule=\"evenodd\" fill-opacity=\"1\"/>\n",
              "<polyline clip-path=\"url(#clip700)\" style=\"stroke:#000000; stroke-linecap:round; stroke-linejoin:round; stroke-width:4; stroke-opacity:1; fill:none\" points=\"1705.44,1377.32 2281.13,1377.32 2281.13,1273.64 1705.44,1273.64 1705.44,1377.32 \"/>\n",
              "<polyline clip-path=\"url(#clip700)\" style=\"stroke:#009af9; stroke-linecap:round; stroke-linejoin:round; stroke-width:4; stroke-opacity:1; fill:none\" points=\"1729.32,1325.48 1872.57,1325.48 \"/>\n",
              "<path clip-path=\"url(#clip700)\" d=\"M1918.69 1309.33 L1918.69 1313.89 Q1916.03 1312.62 1913.67 1311.99 Q1911.31 1311.37 1909.11 1311.37 Q1905.29 1311.37 1903.2 1312.85 Q1901.14 1314.33 1901.14 1317.06 Q1901.14 1319.35 1902.51 1320.53 Q1903.9 1321.69 1907.74 1322.41 L1910.57 1322.99 Q1915.8 1323.98 1918.27 1326.51 Q1920.77 1329.01 1920.77 1333.22 Q1920.77 1338.24 1917.39 1340.83 Q1914.04 1343.43 1907.53 1343.43 Q1905.08 1343.43 1902.3 1342.87 Q1899.55 1342.32 1896.58 1341.23 L1896.58 1336.41 Q1899.43 1338.01 1902.16 1338.82 Q1904.89 1339.63 1907.53 1339.63 Q1911.54 1339.63 1913.71 1338.06 Q1915.89 1336.48 1915.89 1333.57 Q1915.89 1331.02 1914.32 1329.58 Q1912.77 1328.15 1909.2 1327.43 L1906.35 1326.88 Q1901.12 1325.83 1898.78 1323.61 Q1896.45 1321.39 1896.45 1317.43 Q1896.45 1312.85 1899.66 1310.21 Q1902.9 1307.57 1908.58 1307.57 Q1911.01 1307.57 1913.53 1308.01 Q1916.05 1308.45 1918.69 1309.33 Z\" fill=\"#000000\" fill-rule=\"nonzero\" fill-opacity=\"1\" /><path clip-path=\"url(#clip700)\" d=\"M1930.43 1329.82 Q1930.43 1334.51 1932.35 1337.2 Q1934.29 1339.86 1937.67 1339.86 Q1941.05 1339.86 1943 1337.2 Q1944.94 1334.51 1944.94 1329.82 Q1944.94 1325.12 1943 1322.45 Q1941.05 1319.77 1937.67 1319.77 Q1934.29 1319.77 1932.35 1322.45 Q1930.43 1325.12 1930.43 1329.82 M1944.94 1338.87 Q1943.6 1341.18 1941.54 1342.32 Q1939.5 1343.43 1936.63 1343.43 Q1931.93 1343.43 1928.97 1339.68 Q1926.03 1335.93 1926.03 1329.82 Q1926.03 1323.7 1928.97 1319.95 Q1931.93 1316.2 1936.63 1316.2 Q1939.5 1316.2 1941.54 1317.34 Q1943.6 1318.45 1944.94 1320.76 L1944.94 1316.83 L1949.2 1316.83 L1949.2 1352.62 L1944.94 1352.62 L1944.94 1338.87 Z\" fill=\"#000000\" fill-rule=\"nonzero\" fill-opacity=\"1\" /><path clip-path=\"url(#clip700)\" d=\"M1957.53 1332.52 L1957.53 1316.83 L1961.79 1316.83 L1961.79 1332.36 Q1961.79 1336.04 1963.23 1337.89 Q1964.66 1339.72 1967.53 1339.72 Q1970.98 1339.72 1972.97 1337.52 Q1974.99 1335.32 1974.99 1331.53 L1974.99 1316.83 L1979.25 1316.83 L1979.25 1342.76 L1974.99 1342.76 L1974.99 1338.77 Q1973.44 1341.13 1971.38 1342.29 Q1969.34 1343.43 1966.63 1343.43 Q1962.16 1343.43 1959.85 1340.65 Q1957.53 1337.87 1957.53 1332.52 M1968.25 1316.2 L1968.25 1316.2 Z\" fill=\"#000000\" fill-rule=\"nonzero\" fill-opacity=\"1\" /><path clip-path=\"url(#clip700)\" d=\"M1999.8 1329.72 Q1994.64 1329.72 1992.65 1330.9 Q1990.66 1332.08 1990.66 1334.93 Q1990.66 1337.2 1992.14 1338.54 Q1993.64 1339.86 1996.21 1339.86 Q1999.76 1339.86 2001.89 1337.36 Q2004.04 1334.84 2004.04 1330.67 L2004.04 1329.72 L1999.8 1329.72 M2008.3 1327.96 L2008.3 1342.76 L2004.04 1342.76 L2004.04 1338.82 Q2002.58 1341.18 2000.4 1342.32 Q1998.23 1343.43 1995.08 1343.43 Q1991.1 1343.43 1988.74 1341.2 Q1986.4 1338.96 1986.4 1335.21 Q1986.4 1330.83 1989.32 1328.61 Q1992.26 1326.39 1998.07 1326.39 L2004.04 1326.39 L2004.04 1325.97 Q2004.04 1323.03 2002.09 1321.44 Q2000.17 1319.82 1996.68 1319.82 Q1994.45 1319.82 1992.35 1320.35 Q1990.24 1320.88 1988.3 1321.95 L1988.3 1318.01 Q1990.64 1317.11 1992.83 1316.67 Q1995.03 1316.2 1997.12 1316.2 Q2002.74 1316.2 2005.52 1319.12 Q2008.3 1322.04 2008.3 1327.96 Z\" fill=\"#000000\" fill-rule=\"nonzero\" fill-opacity=\"1\" /><path clip-path=\"url(#clip700)\" d=\"M2032.09 1320.81 Q2031.38 1320.39 2030.52 1320.21 Q2029.69 1320 2028.67 1320 Q2025.06 1320 2023.11 1322.36 Q2021.19 1324.7 2021.19 1329.1 L2021.19 1342.76 L2016.91 1342.76 L2016.91 1316.83 L2021.19 1316.83 L2021.19 1320.86 Q2022.53 1318.5 2024.69 1317.36 Q2026.84 1316.2 2029.92 1316.2 Q2030.36 1316.2 2030.89 1316.27 Q2031.42 1316.32 2032.07 1316.44 L2032.09 1320.81 Z\" fill=\"#000000\" fill-rule=\"nonzero\" fill-opacity=\"1\" /><path clip-path=\"url(#clip700)\" d=\"M2057.69 1328.73 L2057.69 1330.81 L2038.11 1330.81 Q2038.39 1335.21 2040.75 1337.52 Q2043.13 1339.82 2047.37 1339.82 Q2049.82 1339.82 2052.12 1339.21 Q2054.43 1338.61 2056.7 1337.41 L2056.7 1341.44 Q2054.41 1342.41 2052 1342.92 Q2049.59 1343.43 2047.12 1343.43 Q2040.91 1343.43 2037.28 1339.82 Q2033.67 1336.2 2033.67 1330.05 Q2033.67 1323.68 2037.09 1319.95 Q2040.54 1316.2 2046.38 1316.2 Q2051.61 1316.2 2054.64 1319.58 Q2057.69 1322.94 2057.69 1328.73 M2053.44 1327.48 Q2053.39 1323.98 2051.47 1321.9 Q2049.57 1319.82 2046.42 1319.82 Q2042.86 1319.82 2040.7 1321.83 Q2038.57 1323.84 2038.25 1327.5 L2053.44 1327.48 Z\" fill=\"#000000\" fill-rule=\"nonzero\" fill-opacity=\"1\" /><path clip-path=\"url(#clip700)\" d=\"M2081.75 1320.76 L2081.75 1306.74 L2086 1306.74 L2086 1342.76 L2081.75 1342.76 L2081.75 1338.87 Q2080.4 1341.18 2078.34 1342.32 Q2076.31 1343.43 2073.44 1343.43 Q2068.74 1343.43 2065.77 1339.68 Q2062.83 1335.93 2062.83 1329.82 Q2062.83 1323.7 2065.77 1319.95 Q2068.74 1316.2 2073.44 1316.2 Q2076.31 1316.2 2078.34 1317.34 Q2080.4 1318.45 2081.75 1320.76 M2067.23 1329.82 Q2067.23 1334.51 2069.15 1337.2 Q2071.1 1339.86 2074.48 1339.86 Q2077.86 1339.86 2079.8 1337.2 Q2081.75 1334.51 2081.75 1329.82 Q2081.75 1325.12 2079.8 1322.45 Q2077.86 1319.77 2074.48 1319.77 Q2071.1 1319.77 2069.15 1322.45 Q2067.23 1325.12 2067.23 1329.82 Z\" fill=\"#000000\" fill-rule=\"nonzero\" fill-opacity=\"1\" /><path clip-path=\"url(#clip700)\" d=\"M2106.79 1316.83 L2111.31 1316.83 L2119.41 1338.59 L2127.51 1316.83 L2132.02 1316.83 L2122.3 1342.76 L2116.51 1342.76 L2106.79 1316.83 Z\" fill=\"#000000\" fill-rule=\"nonzero\" fill-opacity=\"1\" /><path clip-path=\"url(#clip700)\" d=\"M2149.69 1329.72 Q2144.52 1329.72 2142.53 1330.9 Q2140.54 1332.08 2140.54 1334.93 Q2140.54 1337.2 2142.02 1338.54 Q2143.53 1339.86 2146.1 1339.86 Q2149.64 1339.86 2151.77 1337.36 Q2153.92 1334.84 2153.92 1330.67 L2153.92 1329.72 L2149.69 1329.72 M2158.18 1327.96 L2158.18 1342.76 L2153.92 1342.76 L2153.92 1338.82 Q2152.46 1341.18 2150.29 1342.32 Q2148.11 1343.43 2144.96 1343.43 Q2140.98 1343.43 2138.62 1341.2 Q2136.28 1338.96 2136.28 1335.21 Q2136.28 1330.83 2139.2 1328.61 Q2142.14 1326.39 2147.95 1326.39 L2153.92 1326.39 L2153.92 1325.97 Q2153.92 1323.03 2151.98 1321.44 Q2150.06 1319.82 2146.56 1319.82 Q2144.34 1319.82 2142.23 1320.35 Q2140.13 1320.88 2138.18 1321.95 L2138.18 1318.01 Q2140.52 1317.11 2142.72 1316.67 Q2144.92 1316.2 2147 1316.2 Q2152.62 1316.2 2155.4 1319.12 Q2158.18 1322.04 2158.18 1327.96 Z\" fill=\"#000000\" fill-rule=\"nonzero\" fill-opacity=\"1\" /><path clip-path=\"url(#clip700)\" d=\"M2166.95 1306.74 L2171.21 1306.74 L2171.21 1342.76 L2166.95 1342.76 L2166.95 1306.74 Z\" fill=\"#000000\" fill-rule=\"nonzero\" fill-opacity=\"1\" /><path clip-path=\"url(#clip700)\" d=\"M2179.68 1332.52 L2179.68 1316.83 L2183.94 1316.83 L2183.94 1332.36 Q2183.94 1336.04 2185.38 1337.89 Q2186.81 1339.72 2189.68 1339.72 Q2193.13 1339.72 2195.12 1337.52 Q2197.14 1335.32 2197.14 1331.53 L2197.14 1316.83 L2201.4 1316.83 L2201.4 1342.76 L2197.14 1342.76 L2197.14 1338.77 Q2195.59 1341.13 2193.53 1342.29 Q2191.49 1343.43 2188.78 1343.43 Q2184.31 1343.43 2182 1340.65 Q2179.68 1337.87 2179.68 1332.52 M2190.4 1316.2 L2190.4 1316.2 Z\" fill=\"#000000\" fill-rule=\"nonzero\" fill-opacity=\"1\" /><path clip-path=\"url(#clip700)\" d=\"M2232.35 1328.73 L2232.35 1330.81 L2212.76 1330.81 Q2213.04 1335.21 2215.4 1337.52 Q2217.79 1339.82 2222.02 1339.82 Q2224.48 1339.82 2226.77 1339.21 Q2229.08 1338.61 2231.35 1337.41 L2231.35 1341.44 Q2229.06 1342.41 2226.65 1342.92 Q2224.24 1343.43 2221.77 1343.43 Q2215.56 1343.43 2211.93 1339.82 Q2208.32 1336.2 2208.32 1330.05 Q2208.32 1323.68 2211.75 1319.95 Q2215.19 1316.2 2221.03 1316.2 Q2226.26 1316.2 2229.29 1319.58 Q2232.35 1322.94 2232.35 1328.73 M2228.09 1327.48 Q2228.04 1323.98 2226.12 1321.9 Q2224.22 1319.82 2221.07 1319.82 Q2217.51 1319.82 2215.36 1321.83 Q2213.23 1323.84 2212.9 1327.5 L2228.09 1327.48 Z\" fill=\"#000000\" fill-rule=\"nonzero\" fill-opacity=\"1\" /><path clip-path=\"url(#clip700)\" d=\"M2255.87 1317.59 L2255.87 1321.62 Q2254.06 1320.7 2252.12 1320.23 Q2250.17 1319.77 2248.09 1319.77 Q2244.92 1319.77 2243.32 1320.74 Q2241.74 1321.71 2241.74 1323.66 Q2241.74 1325.14 2242.88 1326 Q2244.01 1326.83 2247.44 1327.59 L2248.9 1327.92 Q2253.43 1328.89 2255.33 1330.67 Q2257.25 1332.43 2257.25 1335.6 Q2257.25 1339.21 2254.38 1341.32 Q2251.54 1343.43 2246.54 1343.43 Q2244.45 1343.43 2242.18 1343.01 Q2239.94 1342.62 2237.44 1341.81 L2237.44 1337.41 Q2239.8 1338.63 2242.09 1339.26 Q2244.38 1339.86 2246.63 1339.86 Q2249.64 1339.86 2251.26 1338.84 Q2252.88 1337.8 2252.88 1335.93 Q2252.88 1334.19 2251.7 1333.26 Q2250.54 1332.34 2246.58 1331.48 L2245.1 1331.14 Q2241.14 1330.3 2239.38 1328.59 Q2237.62 1326.85 2237.62 1323.84 Q2237.62 1320.19 2240.22 1318.2 Q2242.81 1316.2 2247.58 1316.2 Q2249.94 1316.2 2252.02 1316.55 Q2254.11 1316.9 2255.87 1317.59 Z\" fill=\"#000000\" fill-rule=\"nonzero\" fill-opacity=\"1\" /></svg>\n"
            ]
          },
          "metadata": {},
          "output_type": "display_data"
        }
      ],
      "source": [
        "# insert your code here\n",
        "function square(x)\n",
        "    return x*x\n",
        "end\n",
        "y = []\n",
        "for x in range(-5,5)\n",
        "    y = push!(y,square(x))\n",
        "end\n",
        "\n",
        "x = range(-5,5)\n",
        "plot(x,y,label=\"Squared values\")\n",
        "xlabel!(\"Integers between -5 and 5\")\n",
        "ylabel!(\"Values\")"
      ]
    },
    {
      "cell_type": "markdown",
      "id": "eaca6031-e691-4019-9986-e7127b3df842",
      "metadata": {},
      "source": [
        "## Commit and Push Your Changes to GitHub\n",
        "\n",
        "After completing the previous two exercises, commit your solution file\n",
        "(notebook or otherwise) and push to GitHub. Use an informative commit\n",
        "message which makes it clear what changes you’ve made. The specific\n",
        "workflow for this will vary depending on how you’re writing up your\n",
        "solutions; please search for specifics and ask for help as needed!\n",
        "\n",
        "> **Useful Commit Sizes**\n",
        ">\n",
        "> Ideally, you’d commit whenever you make a “substantial” enough change\n",
        "> that you want to lock in, such as writing the core code for a problem\n",
        "> or completing a problem, if you’re preparing code to be used elsewhere\n",
        "> (by yourself or others), or if you want to ask for help. `git` lets\n",
        "> you revert changes back to a previous commit, so it’s easy to undo\n",
        "> changes or updates which broke something that was previously working,\n",
        "> so changing too many things at once can make it hard to keep track of\n",
        "> what worked when.\n",
        ">\n",
        "> But in this case, go ahead and just commit after finishing the\n",
        "> problems.\n",
        "\n",
        "Push the repository with these commits to GitHub and take a screenshot\n",
        "of the repository page\n",
        "(`https://github.com/BEE4750-FA24/<username>/lab01`) which shows the\n",
        "updated repository. Include that screenshot in your submission as the\n",
        "solution to this problem.\n",
        "\n",
        "## Submitting PDF\n",
        "\n",
        "> **Important**\n",
        ">\n",
        "> These submission instructions will not be repeated on future\n",
        "> assignments!\n",
        "\n",
        "Export your writeup as a PDF and submit it to the “Lab 1” assignment on\n",
        "Gradescope. Make sure that you tag pages corresponding to relevant\n",
        "problems to avoid a 10% penalty.\n",
        "\n",
        "> **Printing Code to PDF**\n",
        ">\n",
        "> You are not required to submit your code when submitting assignments.\n",
        "> However, when printing a notebook to PDF, long lines will run off the\n",
        "> edge of code cells, which may result in comments or code being hidden.\n",
        "> If you see this, go back to the notebook and break up long lines into\n",
        "> shorter onces (for example, see the comment in the above code cell) to\n",
        "> ensure key parts of your results aren’t missing."
      ]
    }
  ],
  "metadata": {
    "kernel_info": {
      "name": "julia"
    },
    "kernelspec": {
      "display_name": "Julia 1.10.4",
      "language": "julia",
      "name": "julia-1.10"
    },
    "language_info": {
      "file_extension": ".jl",
      "mimetype": "application/julia",
      "name": "julia",
      "version": "1.10.4"
    }
  },
  "nbformat": 4,
  "nbformat_minor": 5
}
